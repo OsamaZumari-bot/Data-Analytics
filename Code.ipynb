{
  "cells": [
    {
      "cell_type": "markdown",
      "source": [
        "# ***Data Analytics Final Project*** "
      ],
      "metadata": {
        "id": "_dlZ2VJZU-ET"
      }
    },
    {
      "cell_type": "markdown",
      "metadata": {
        "id": "qphlo1c2vdhw"
      },
      "source": [
        "# 1. Importing Libraries\n"
      ]
    },
    {
      "cell_type": "code",
      "execution_count": 35,
      "metadata": {
        "id": "tJiEqia5uncL"
      },
      "outputs": [],
      "source": [
        "import numpy as np \n",
        "import seaborn as sns\n",
        "import statistics as st\n",
        "import matplotlib.pyplot as plt\n",
        "from sklearn.metrics import mean_absolute_error, mean_squared_error, r2_score"
      ]
    },
    {
      "cell_type": "markdown",
      "metadata": {
        "id": "DZYcY9xJvpoa"
      },
      "source": [
        "# 2. Reading The Data"
      ]
    },
    {
      "cell_type": "code",
      "execution_count": 36,
      "metadata": {
        "id": "-wQsQcqC-n_F",
        "colab": {
          "base_uri": "https://localhost:8080/",
          "height": 0
        },
        "outputId": "c6f29d3e-5466-47e6-8605-e0890f9df5d6"
      },
      "outputs": [
        {
          "output_type": "execute_result",
          "data": {
            "text/plain": [
              "       TRADE_DATE  SEC_CODE SYMBOL1  MARKET      VOLUME  TRADE_QTY  \\\n",
              "0        1/2/2022    111001    JOIB       1   199083.73      54378   \n",
              "1        1/2/2022    111002    JOKB       1    12707.76       9009   \n",
              "2        1/2/2022    111003    JCBK       2      727.41        726   \n",
              "3        1/2/2022    111004    THBK       1     1558.10        394   \n",
              "4        1/2/2022    111006    SIBK       1    29030.98      14867   \n",
              "...           ...       ...     ...     ...         ...        ...   \n",
              "28007  31/10/2022    141214    ASAS       2  1025509.50    1981726   \n",
              "28008  31/10/2022    141215    UCIC       2      154.70        455   \n",
              "28009  31/10/2022    141223    SHBA       2    57426.99      10276   \n",
              "28010  31/10/2022    141224    NCCO       1     1135.00        500   \n",
              "28011  31/10/2022    142041    JOPT       1   921007.59     170828   \n",
              "\n",
              "       NO_OF_TRADES  HIGH  BEST_ASK_PRICE  BEST_ASK_QTY  BEST_BID_PRICE  \\\n",
              "0                73  3.67            2.65           585            3.13   \n",
              "1                17  1.42            1.36           493            1.86   \n",
              "2                 7  1.03            1.14          1853            1.64   \n",
              "3                 5  3.97            1.09           660            1.59   \n",
              "4                11  1.98            1.23          1000            1.73   \n",
              "...             ...   ...             ...           ...             ...   \n",
              "28007            25  0.52            1.55          2462            2.04   \n",
              "28008             2  0.34            1.02          6959            1.52   \n",
              "28009            14  5.61            1.29            70            1.79   \n",
              "28010             1  2.27            1.00           500            1.50   \n",
              "28011           568  5.57           14.02          1048           14.35   \n",
              "\n",
              "       BEST_BID_QTY   LOW  \n",
              "0              2000  3.65  \n",
              "1              1570  1.41  \n",
              "2              1000  1.00  \n",
              "3                46  3.95  \n",
              "4               333  1.95  \n",
              "...             ...   ...  \n",
              "28007             0  0.51  \n",
              "28008         14710  0.34  \n",
              "28009             0  5.35  \n",
              "28010           500  2.27  \n",
              "28011            20  5.24  \n",
              "\n",
              "[28012 rows x 13 columns]"
            ],
            "text/html": [
              "\n",
              "  <div id=\"df-d2f5b6d5-8572-444e-978e-aa2f6678daa1\">\n",
              "    <div class=\"colab-df-container\">\n",
              "      <div>\n",
              "<style scoped>\n",
              "    .dataframe tbody tr th:only-of-type {\n",
              "        vertical-align: middle;\n",
              "    }\n",
              "\n",
              "    .dataframe tbody tr th {\n",
              "        vertical-align: top;\n",
              "    }\n",
              "\n",
              "    .dataframe thead th {\n",
              "        text-align: right;\n",
              "    }\n",
              "</style>\n",
              "<table border=\"1\" class=\"dataframe\">\n",
              "  <thead>\n",
              "    <tr style=\"text-align: right;\">\n",
              "      <th></th>\n",
              "      <th>TRADE_DATE</th>\n",
              "      <th>SEC_CODE</th>\n",
              "      <th>SYMBOL1</th>\n",
              "      <th>MARKET</th>\n",
              "      <th>VOLUME</th>\n",
              "      <th>TRADE_QTY</th>\n",
              "      <th>NO_OF_TRADES</th>\n",
              "      <th>HIGH</th>\n",
              "      <th>BEST_ASK_PRICE</th>\n",
              "      <th>BEST_ASK_QTY</th>\n",
              "      <th>BEST_BID_PRICE</th>\n",
              "      <th>BEST_BID_QTY</th>\n",
              "      <th>LOW</th>\n",
              "    </tr>\n",
              "  </thead>\n",
              "  <tbody>\n",
              "    <tr>\n",
              "      <th>0</th>\n",
              "      <td>1/2/2022</td>\n",
              "      <td>111001</td>\n",
              "      <td>JOIB</td>\n",
              "      <td>1</td>\n",
              "      <td>199083.73</td>\n",
              "      <td>54378</td>\n",
              "      <td>73</td>\n",
              "      <td>3.67</td>\n",
              "      <td>2.65</td>\n",
              "      <td>585</td>\n",
              "      <td>3.13</td>\n",
              "      <td>2000</td>\n",
              "      <td>3.65</td>\n",
              "    </tr>\n",
              "    <tr>\n",
              "      <th>1</th>\n",
              "      <td>1/2/2022</td>\n",
              "      <td>111002</td>\n",
              "      <td>JOKB</td>\n",
              "      <td>1</td>\n",
              "      <td>12707.76</td>\n",
              "      <td>9009</td>\n",
              "      <td>17</td>\n",
              "      <td>1.42</td>\n",
              "      <td>1.36</td>\n",
              "      <td>493</td>\n",
              "      <td>1.86</td>\n",
              "      <td>1570</td>\n",
              "      <td>1.41</td>\n",
              "    </tr>\n",
              "    <tr>\n",
              "      <th>2</th>\n",
              "      <td>1/2/2022</td>\n",
              "      <td>111003</td>\n",
              "      <td>JCBK</td>\n",
              "      <td>2</td>\n",
              "      <td>727.41</td>\n",
              "      <td>726</td>\n",
              "      <td>7</td>\n",
              "      <td>1.03</td>\n",
              "      <td>1.14</td>\n",
              "      <td>1853</td>\n",
              "      <td>1.64</td>\n",
              "      <td>1000</td>\n",
              "      <td>1.00</td>\n",
              "    </tr>\n",
              "    <tr>\n",
              "      <th>3</th>\n",
              "      <td>1/2/2022</td>\n",
              "      <td>111004</td>\n",
              "      <td>THBK</td>\n",
              "      <td>1</td>\n",
              "      <td>1558.10</td>\n",
              "      <td>394</td>\n",
              "      <td>5</td>\n",
              "      <td>3.97</td>\n",
              "      <td>1.09</td>\n",
              "      <td>660</td>\n",
              "      <td>1.59</td>\n",
              "      <td>46</td>\n",
              "      <td>3.95</td>\n",
              "    </tr>\n",
              "    <tr>\n",
              "      <th>4</th>\n",
              "      <td>1/2/2022</td>\n",
              "      <td>111006</td>\n",
              "      <td>SIBK</td>\n",
              "      <td>1</td>\n",
              "      <td>29030.98</td>\n",
              "      <td>14867</td>\n",
              "      <td>11</td>\n",
              "      <td>1.98</td>\n",
              "      <td>1.23</td>\n",
              "      <td>1000</td>\n",
              "      <td>1.73</td>\n",
              "      <td>333</td>\n",
              "      <td>1.95</td>\n",
              "    </tr>\n",
              "    <tr>\n",
              "      <th>...</th>\n",
              "      <td>...</td>\n",
              "      <td>...</td>\n",
              "      <td>...</td>\n",
              "      <td>...</td>\n",
              "      <td>...</td>\n",
              "      <td>...</td>\n",
              "      <td>...</td>\n",
              "      <td>...</td>\n",
              "      <td>...</td>\n",
              "      <td>...</td>\n",
              "      <td>...</td>\n",
              "      <td>...</td>\n",
              "      <td>...</td>\n",
              "    </tr>\n",
              "    <tr>\n",
              "      <th>28007</th>\n",
              "      <td>31/10/2022</td>\n",
              "      <td>141214</td>\n",
              "      <td>ASAS</td>\n",
              "      <td>2</td>\n",
              "      <td>1025509.50</td>\n",
              "      <td>1981726</td>\n",
              "      <td>25</td>\n",
              "      <td>0.52</td>\n",
              "      <td>1.55</td>\n",
              "      <td>2462</td>\n",
              "      <td>2.04</td>\n",
              "      <td>0</td>\n",
              "      <td>0.51</td>\n",
              "    </tr>\n",
              "    <tr>\n",
              "      <th>28008</th>\n",
              "      <td>31/10/2022</td>\n",
              "      <td>141215</td>\n",
              "      <td>UCIC</td>\n",
              "      <td>2</td>\n",
              "      <td>154.70</td>\n",
              "      <td>455</td>\n",
              "      <td>2</td>\n",
              "      <td>0.34</td>\n",
              "      <td>1.02</td>\n",
              "      <td>6959</td>\n",
              "      <td>1.52</td>\n",
              "      <td>14710</td>\n",
              "      <td>0.34</td>\n",
              "    </tr>\n",
              "    <tr>\n",
              "      <th>28009</th>\n",
              "      <td>31/10/2022</td>\n",
              "      <td>141223</td>\n",
              "      <td>SHBA</td>\n",
              "      <td>2</td>\n",
              "      <td>57426.99</td>\n",
              "      <td>10276</td>\n",
              "      <td>14</td>\n",
              "      <td>5.61</td>\n",
              "      <td>1.29</td>\n",
              "      <td>70</td>\n",
              "      <td>1.79</td>\n",
              "      <td>0</td>\n",
              "      <td>5.35</td>\n",
              "    </tr>\n",
              "    <tr>\n",
              "      <th>28010</th>\n",
              "      <td>31/10/2022</td>\n",
              "      <td>141224</td>\n",
              "      <td>NCCO</td>\n",
              "      <td>1</td>\n",
              "      <td>1135.00</td>\n",
              "      <td>500</td>\n",
              "      <td>1</td>\n",
              "      <td>2.27</td>\n",
              "      <td>1.00</td>\n",
              "      <td>500</td>\n",
              "      <td>1.50</td>\n",
              "      <td>500</td>\n",
              "      <td>2.27</td>\n",
              "    </tr>\n",
              "    <tr>\n",
              "      <th>28011</th>\n",
              "      <td>31/10/2022</td>\n",
              "      <td>142041</td>\n",
              "      <td>JOPT</td>\n",
              "      <td>1</td>\n",
              "      <td>921007.59</td>\n",
              "      <td>170828</td>\n",
              "      <td>568</td>\n",
              "      <td>5.57</td>\n",
              "      <td>14.02</td>\n",
              "      <td>1048</td>\n",
              "      <td>14.35</td>\n",
              "      <td>20</td>\n",
              "      <td>5.24</td>\n",
              "    </tr>\n",
              "  </tbody>\n",
              "</table>\n",
              "<p>28012 rows × 13 columns</p>\n",
              "</div>\n",
              "      <button class=\"colab-df-convert\" onclick=\"convertToInteractive('df-d2f5b6d5-8572-444e-978e-aa2f6678daa1')\"\n",
              "              title=\"Convert this dataframe to an interactive table.\"\n",
              "              style=\"display:none;\">\n",
              "        \n",
              "  <svg xmlns=\"http://www.w3.org/2000/svg\" height=\"24px\"viewBox=\"0 0 24 24\"\n",
              "       width=\"24px\">\n",
              "    <path d=\"M0 0h24v24H0V0z\" fill=\"none\"/>\n",
              "    <path d=\"M18.56 5.44l.94 2.06.94-2.06 2.06-.94-2.06-.94-.94-2.06-.94 2.06-2.06.94zm-11 1L8.5 8.5l.94-2.06 2.06-.94-2.06-.94L8.5 2.5l-.94 2.06-2.06.94zm10 10l.94 2.06.94-2.06 2.06-.94-2.06-.94-.94-2.06-.94 2.06-2.06.94z\"/><path d=\"M17.41 7.96l-1.37-1.37c-.4-.4-.92-.59-1.43-.59-.52 0-1.04.2-1.43.59L10.3 9.45l-7.72 7.72c-.78.78-.78 2.05 0 2.83L4 21.41c.39.39.9.59 1.41.59.51 0 1.02-.2 1.41-.59l7.78-7.78 2.81-2.81c.8-.78.8-2.07 0-2.86zM5.41 20L4 18.59l7.72-7.72 1.47 1.35L5.41 20z\"/>\n",
              "  </svg>\n",
              "      </button>\n",
              "      \n",
              "  <style>\n",
              "    .colab-df-container {\n",
              "      display:flex;\n",
              "      flex-wrap:wrap;\n",
              "      gap: 12px;\n",
              "    }\n",
              "\n",
              "    .colab-df-convert {\n",
              "      background-color: #E8F0FE;\n",
              "      border: none;\n",
              "      border-radius: 50%;\n",
              "      cursor: pointer;\n",
              "      display: none;\n",
              "      fill: #1967D2;\n",
              "      height: 32px;\n",
              "      padding: 0 0 0 0;\n",
              "      width: 32px;\n",
              "    }\n",
              "\n",
              "    .colab-df-convert:hover {\n",
              "      background-color: #E2EBFA;\n",
              "      box-shadow: 0px 1px 2px rgba(60, 64, 67, 0.3), 0px 1px 3px 1px rgba(60, 64, 67, 0.15);\n",
              "      fill: #174EA6;\n",
              "    }\n",
              "\n",
              "    [theme=dark] .colab-df-convert {\n",
              "      background-color: #3B4455;\n",
              "      fill: #D2E3FC;\n",
              "    }\n",
              "\n",
              "    [theme=dark] .colab-df-convert:hover {\n",
              "      background-color: #434B5C;\n",
              "      box-shadow: 0px 1px 3px 1px rgba(0, 0, 0, 0.15);\n",
              "      filter: drop-shadow(0px 1px 2px rgba(0, 0, 0, 0.3));\n",
              "      fill: #FFFFFF;\n",
              "    }\n",
              "  </style>\n",
              "\n",
              "      <script>\n",
              "        const buttonEl =\n",
              "          document.querySelector('#df-d2f5b6d5-8572-444e-978e-aa2f6678daa1 button.colab-df-convert');\n",
              "        buttonEl.style.display =\n",
              "          google.colab.kernel.accessAllowed ? 'block' : 'none';\n",
              "\n",
              "        async function convertToInteractive(key) {\n",
              "          const element = document.querySelector('#df-d2f5b6d5-8572-444e-978e-aa2f6678daa1');\n",
              "          const dataTable =\n",
              "            await google.colab.kernel.invokeFunction('convertToInteractive',\n",
              "                                                     [key], {});\n",
              "          if (!dataTable) return;\n",
              "\n",
              "          const docLinkHtml = 'Like what you see? Visit the ' +\n",
              "            '<a target=\"_blank\" href=https://colab.research.google.com/notebooks/data_table.ipynb>data table notebook</a>'\n",
              "            + ' to learn more about interactive tables.';\n",
              "          element.innerHTML = '';\n",
              "          dataTable['output_type'] = 'display_data';\n",
              "          await google.colab.output.renderOutput(dataTable, element);\n",
              "          const docLink = document.createElement('div');\n",
              "          docLink.innerHTML = docLinkHtml;\n",
              "          element.appendChild(docLink);\n",
              "        }\n",
              "      </script>\n",
              "    </div>\n",
              "  </div>\n",
              "  "
            ]
          },
          "metadata": {},
          "execution_count": 36
        }
      ],
      "source": [
        "import pandas as pd \n",
        "df = pd.read_csv(\"/content/Final.csv\")\n",
        "df"
      ]
    },
    {
      "cell_type": "code",
      "source": [
        "df[\"HIGH\"].value_counts()"
      ],
      "metadata": {
        "colab": {
          "base_uri": "https://localhost:8080/"
        },
        "id": "_KDCBZoBnVDV",
        "outputId": "8ee00480-798d-4c29-fb40-e9079ce74b3d"
      },
      "execution_count": 37,
      "outputs": [
        {
          "output_type": "execute_result",
          "data": {
            "text/plain": [
              "0.36    341\n",
              "0.38    329\n",
              "0.47    317\n",
              "0.37    317\n",
              "0.35    310\n",
              "       ... \n",
              "8.94      1\n",
              "6.21      1\n",
              "6.85      1\n",
              "6.94      1\n",
              "8.99      1\n",
              "Name: HIGH, Length: 1072, dtype: int64"
            ]
          },
          "metadata": {},
          "execution_count": 37
        }
      ]
    },
    {
      "cell_type": "code",
      "source": [
        "df[\"LOW\"].value_counts()"
      ],
      "metadata": {
        "colab": {
          "base_uri": "https://localhost:8080/"
        },
        "id": "cajkhVhdoQbo",
        "outputId": "27f8ecee-8ad2-4e93-a3df-608cb82a39f3"
      },
      "execution_count": 38,
      "outputs": [
        {
          "output_type": "execute_result",
          "data": {
            "text/plain": [
              "0.38     346\n",
              "0.35     334\n",
              "0.45     334\n",
              "0.37     331\n",
              "0.36     323\n",
              "        ... \n",
              "17.63      1\n",
              "10.29      1\n",
              "6.08       1\n",
              "26.20      1\n",
              "5.35       1\n",
              "Name: LOW, Length: 1007, dtype: int64"
            ]
          },
          "metadata": {},
          "execution_count": 38
        }
      ]
    },
    {
      "cell_type": "markdown",
      "metadata": {
        "id": "O14rlwQIzFlx"
      },
      "source": [
        "# 3. Exploring The Data "
      ]
    },
    {
      "cell_type": "code",
      "source": [
        "df.columns"
      ],
      "metadata": {
        "colab": {
          "base_uri": "https://localhost:8080/"
        },
        "id": "aTVJxUO61rXS",
        "outputId": "04ea5ddf-60d5-4955-e73a-5722c19a7d20"
      },
      "execution_count": 39,
      "outputs": [
        {
          "output_type": "execute_result",
          "data": {
            "text/plain": [
              "Index(['TRADE_DATE', 'SEC_CODE', 'SYMBOL1', 'MARKET', 'VOLUME', 'TRADE_QTY',\n",
              "       'NO_OF_TRADES', 'HIGH', 'BEST_ASK_PRICE', 'BEST_ASK_QTY',\n",
              "       'BEST_BID_PRICE', 'BEST_BID_QTY', 'LOW'],\n",
              "      dtype='object')"
            ]
          },
          "metadata": {},
          "execution_count": 39
        }
      ]
    },
    {
      "cell_type": "code",
      "execution_count": 40,
      "metadata": {
        "colab": {
          "base_uri": "https://localhost:8080/"
        },
        "id": "d3tU0BikzKh3",
        "outputId": "ec115ca1-63a2-41cd-b6df-f8789b2f59d8"
      },
      "outputs": [
        {
          "output_type": "stream",
          "name": "stdout",
          "text": [
            "<class 'pandas.core.frame.DataFrame'>\n",
            "RangeIndex: 28012 entries, 0 to 28011\n",
            "Data columns (total 13 columns):\n",
            " #   Column          Non-Null Count  Dtype  \n",
            "---  ------          --------------  -----  \n",
            " 0   TRADE_DATE      28012 non-null  object \n",
            " 1   SEC_CODE        28012 non-null  int64  \n",
            " 2   SYMBOL1         28012 non-null  object \n",
            " 3   MARKET          28012 non-null  int64  \n",
            " 4   VOLUME          28012 non-null  float64\n",
            " 5   TRADE_QTY       28012 non-null  int64  \n",
            " 6   NO_OF_TRADES    28012 non-null  int64  \n",
            " 7   HIGH            28012 non-null  float64\n",
            " 8   BEST_ASK_PRICE  28012 non-null  float64\n",
            " 9   BEST_ASK_QTY    28012 non-null  int64  \n",
            " 10  BEST_BID_PRICE  28012 non-null  float64\n",
            " 11  BEST_BID_QTY    28012 non-null  int64  \n",
            " 12  LOW             28012 non-null  float64\n",
            "dtypes: float64(5), int64(6), object(2)\n",
            "memory usage: 2.8+ MB\n"
          ]
        }
      ],
      "source": [
        "df.info()"
      ]
    },
    {
      "cell_type": "code",
      "execution_count": 41,
      "metadata": {
        "colab": {
          "base_uri": "https://localhost:8080/",
          "height": 0
        },
        "id": "bAxwiUp8zNPc",
        "outputId": "7a2699aa-9850-49d6-cb6e-b3e2992810c8"
      },
      "outputs": [
        {
          "output_type": "execute_result",
          "data": {
            "text/plain": [
              "            SEC_CODE        MARKET        VOLUME     TRADE_QTY  NO_OF_TRADES  \\\n",
              "count   28012.000000  28012.000000  2.801200e+04  2.801200e+04  28012.000000   \n",
              "mean   131287.967871      1.385906  6.312677e+04  4.270346e+04     28.061545   \n",
              "std      9043.995400      0.750480  3.022558e+05  1.451785e+05     66.231007   \n",
              "min    111001.000000      0.000000  2.000000e-02  1.000000e+00      1.000000   \n",
              "25%    131052.000000      1.000000  6.398300e+02  1.000000e+03      3.000000   \n",
              "50%    131243.000000      2.000000  3.831125e+03  5.873500e+03      9.000000   \n",
              "75%    141014.000000      2.000000  2.014495e+04  2.843675e+04     25.000000   \n",
              "max    142041.000000      2.000000  8.868824e+06  5.741963e+06   1700.000000   \n",
              "\n",
              "               HIGH  BEST_ASK_PRICE  BEST_ASK_QTY  BEST_BID_PRICE  \\\n",
              "count  28012.000000    28012.000000  2.801200e+04    28012.000000   \n",
              "mean       1.713816        1.620775  1.979999e+04        2.113421   \n",
              "std        4.667872        1.520599  6.742718e+04        1.500857   \n",
              "min        0.020000        1.000000  0.000000e+00        1.500000   \n",
              "25%        0.380000        1.050000  5.000000e+02        1.550000   \n",
              "50%        0.710000        1.180000  2.100000e+03        1.680000   \n",
              "75%        1.460000        1.550000  9.494250e+03        2.040000   \n",
              "max       44.500000       40.000000  1.017951e+06       40.000000   \n",
              "\n",
              "       BEST_BID_QTY           LOW  \n",
              "count  2.801200e+04  28012.000000  \n",
              "mean   2.452341e+04      1.680022  \n",
              "std    1.008184e+05      4.580905  \n",
              "min    0.000000e+00      0.010000  \n",
              "25%    4.000000e+02      0.370000  \n",
              "50%    1.912000e+03      0.690000  \n",
              "75%    1.038675e+04      1.432500  \n",
              "max    3.600734e+06     44.040000  "
            ],
            "text/html": [
              "\n",
              "  <div id=\"df-b05dc0a4-1bca-4815-a28e-974a3b3f618a\">\n",
              "    <div class=\"colab-df-container\">\n",
              "      <div>\n",
              "<style scoped>\n",
              "    .dataframe tbody tr th:only-of-type {\n",
              "        vertical-align: middle;\n",
              "    }\n",
              "\n",
              "    .dataframe tbody tr th {\n",
              "        vertical-align: top;\n",
              "    }\n",
              "\n",
              "    .dataframe thead th {\n",
              "        text-align: right;\n",
              "    }\n",
              "</style>\n",
              "<table border=\"1\" class=\"dataframe\">\n",
              "  <thead>\n",
              "    <tr style=\"text-align: right;\">\n",
              "      <th></th>\n",
              "      <th>SEC_CODE</th>\n",
              "      <th>MARKET</th>\n",
              "      <th>VOLUME</th>\n",
              "      <th>TRADE_QTY</th>\n",
              "      <th>NO_OF_TRADES</th>\n",
              "      <th>HIGH</th>\n",
              "      <th>BEST_ASK_PRICE</th>\n",
              "      <th>BEST_ASK_QTY</th>\n",
              "      <th>BEST_BID_PRICE</th>\n",
              "      <th>BEST_BID_QTY</th>\n",
              "      <th>LOW</th>\n",
              "    </tr>\n",
              "  </thead>\n",
              "  <tbody>\n",
              "    <tr>\n",
              "      <th>count</th>\n",
              "      <td>28012.000000</td>\n",
              "      <td>28012.000000</td>\n",
              "      <td>2.801200e+04</td>\n",
              "      <td>2.801200e+04</td>\n",
              "      <td>28012.000000</td>\n",
              "      <td>28012.000000</td>\n",
              "      <td>28012.000000</td>\n",
              "      <td>2.801200e+04</td>\n",
              "      <td>28012.000000</td>\n",
              "      <td>2.801200e+04</td>\n",
              "      <td>28012.000000</td>\n",
              "    </tr>\n",
              "    <tr>\n",
              "      <th>mean</th>\n",
              "      <td>131287.967871</td>\n",
              "      <td>1.385906</td>\n",
              "      <td>6.312677e+04</td>\n",
              "      <td>4.270346e+04</td>\n",
              "      <td>28.061545</td>\n",
              "      <td>1.713816</td>\n",
              "      <td>1.620775</td>\n",
              "      <td>1.979999e+04</td>\n",
              "      <td>2.113421</td>\n",
              "      <td>2.452341e+04</td>\n",
              "      <td>1.680022</td>\n",
              "    </tr>\n",
              "    <tr>\n",
              "      <th>std</th>\n",
              "      <td>9043.995400</td>\n",
              "      <td>0.750480</td>\n",
              "      <td>3.022558e+05</td>\n",
              "      <td>1.451785e+05</td>\n",
              "      <td>66.231007</td>\n",
              "      <td>4.667872</td>\n",
              "      <td>1.520599</td>\n",
              "      <td>6.742718e+04</td>\n",
              "      <td>1.500857</td>\n",
              "      <td>1.008184e+05</td>\n",
              "      <td>4.580905</td>\n",
              "    </tr>\n",
              "    <tr>\n",
              "      <th>min</th>\n",
              "      <td>111001.000000</td>\n",
              "      <td>0.000000</td>\n",
              "      <td>2.000000e-02</td>\n",
              "      <td>1.000000e+00</td>\n",
              "      <td>1.000000</td>\n",
              "      <td>0.020000</td>\n",
              "      <td>1.000000</td>\n",
              "      <td>0.000000e+00</td>\n",
              "      <td>1.500000</td>\n",
              "      <td>0.000000e+00</td>\n",
              "      <td>0.010000</td>\n",
              "    </tr>\n",
              "    <tr>\n",
              "      <th>25%</th>\n",
              "      <td>131052.000000</td>\n",
              "      <td>1.000000</td>\n",
              "      <td>6.398300e+02</td>\n",
              "      <td>1.000000e+03</td>\n",
              "      <td>3.000000</td>\n",
              "      <td>0.380000</td>\n",
              "      <td>1.050000</td>\n",
              "      <td>5.000000e+02</td>\n",
              "      <td>1.550000</td>\n",
              "      <td>4.000000e+02</td>\n",
              "      <td>0.370000</td>\n",
              "    </tr>\n",
              "    <tr>\n",
              "      <th>50%</th>\n",
              "      <td>131243.000000</td>\n",
              "      <td>2.000000</td>\n",
              "      <td>3.831125e+03</td>\n",
              "      <td>5.873500e+03</td>\n",
              "      <td>9.000000</td>\n",
              "      <td>0.710000</td>\n",
              "      <td>1.180000</td>\n",
              "      <td>2.100000e+03</td>\n",
              "      <td>1.680000</td>\n",
              "      <td>1.912000e+03</td>\n",
              "      <td>0.690000</td>\n",
              "    </tr>\n",
              "    <tr>\n",
              "      <th>75%</th>\n",
              "      <td>141014.000000</td>\n",
              "      <td>2.000000</td>\n",
              "      <td>2.014495e+04</td>\n",
              "      <td>2.843675e+04</td>\n",
              "      <td>25.000000</td>\n",
              "      <td>1.460000</td>\n",
              "      <td>1.550000</td>\n",
              "      <td>9.494250e+03</td>\n",
              "      <td>2.040000</td>\n",
              "      <td>1.038675e+04</td>\n",
              "      <td>1.432500</td>\n",
              "    </tr>\n",
              "    <tr>\n",
              "      <th>max</th>\n",
              "      <td>142041.000000</td>\n",
              "      <td>2.000000</td>\n",
              "      <td>8.868824e+06</td>\n",
              "      <td>5.741963e+06</td>\n",
              "      <td>1700.000000</td>\n",
              "      <td>44.500000</td>\n",
              "      <td>40.000000</td>\n",
              "      <td>1.017951e+06</td>\n",
              "      <td>40.000000</td>\n",
              "      <td>3.600734e+06</td>\n",
              "      <td>44.040000</td>\n",
              "    </tr>\n",
              "  </tbody>\n",
              "</table>\n",
              "</div>\n",
              "      <button class=\"colab-df-convert\" onclick=\"convertToInteractive('df-b05dc0a4-1bca-4815-a28e-974a3b3f618a')\"\n",
              "              title=\"Convert this dataframe to an interactive table.\"\n",
              "              style=\"display:none;\">\n",
              "        \n",
              "  <svg xmlns=\"http://www.w3.org/2000/svg\" height=\"24px\"viewBox=\"0 0 24 24\"\n",
              "       width=\"24px\">\n",
              "    <path d=\"M0 0h24v24H0V0z\" fill=\"none\"/>\n",
              "    <path d=\"M18.56 5.44l.94 2.06.94-2.06 2.06-.94-2.06-.94-.94-2.06-.94 2.06-2.06.94zm-11 1L8.5 8.5l.94-2.06 2.06-.94-2.06-.94L8.5 2.5l-.94 2.06-2.06.94zm10 10l.94 2.06.94-2.06 2.06-.94-2.06-.94-.94-2.06-.94 2.06-2.06.94z\"/><path d=\"M17.41 7.96l-1.37-1.37c-.4-.4-.92-.59-1.43-.59-.52 0-1.04.2-1.43.59L10.3 9.45l-7.72 7.72c-.78.78-.78 2.05 0 2.83L4 21.41c.39.39.9.59 1.41.59.51 0 1.02-.2 1.41-.59l7.78-7.78 2.81-2.81c.8-.78.8-2.07 0-2.86zM5.41 20L4 18.59l7.72-7.72 1.47 1.35L5.41 20z\"/>\n",
              "  </svg>\n",
              "      </button>\n",
              "      \n",
              "  <style>\n",
              "    .colab-df-container {\n",
              "      display:flex;\n",
              "      flex-wrap:wrap;\n",
              "      gap: 12px;\n",
              "    }\n",
              "\n",
              "    .colab-df-convert {\n",
              "      background-color: #E8F0FE;\n",
              "      border: none;\n",
              "      border-radius: 50%;\n",
              "      cursor: pointer;\n",
              "      display: none;\n",
              "      fill: #1967D2;\n",
              "      height: 32px;\n",
              "      padding: 0 0 0 0;\n",
              "      width: 32px;\n",
              "    }\n",
              "\n",
              "    .colab-df-convert:hover {\n",
              "      background-color: #E2EBFA;\n",
              "      box-shadow: 0px 1px 2px rgba(60, 64, 67, 0.3), 0px 1px 3px 1px rgba(60, 64, 67, 0.15);\n",
              "      fill: #174EA6;\n",
              "    }\n",
              "\n",
              "    [theme=dark] .colab-df-convert {\n",
              "      background-color: #3B4455;\n",
              "      fill: #D2E3FC;\n",
              "    }\n",
              "\n",
              "    [theme=dark] .colab-df-convert:hover {\n",
              "      background-color: #434B5C;\n",
              "      box-shadow: 0px 1px 3px 1px rgba(0, 0, 0, 0.15);\n",
              "      filter: drop-shadow(0px 1px 2px rgba(0, 0, 0, 0.3));\n",
              "      fill: #FFFFFF;\n",
              "    }\n",
              "  </style>\n",
              "\n",
              "      <script>\n",
              "        const buttonEl =\n",
              "          document.querySelector('#df-b05dc0a4-1bca-4815-a28e-974a3b3f618a button.colab-df-convert');\n",
              "        buttonEl.style.display =\n",
              "          google.colab.kernel.accessAllowed ? 'block' : 'none';\n",
              "\n",
              "        async function convertToInteractive(key) {\n",
              "          const element = document.querySelector('#df-b05dc0a4-1bca-4815-a28e-974a3b3f618a');\n",
              "          const dataTable =\n",
              "            await google.colab.kernel.invokeFunction('convertToInteractive',\n",
              "                                                     [key], {});\n",
              "          if (!dataTable) return;\n",
              "\n",
              "          const docLinkHtml = 'Like what you see? Visit the ' +\n",
              "            '<a target=\"_blank\" href=https://colab.research.google.com/notebooks/data_table.ipynb>data table notebook</a>'\n",
              "            + ' to learn more about interactive tables.';\n",
              "          element.innerHTML = '';\n",
              "          dataTable['output_type'] = 'display_data';\n",
              "          await google.colab.output.renderOutput(dataTable, element);\n",
              "          const docLink = document.createElement('div');\n",
              "          docLink.innerHTML = docLinkHtml;\n",
              "          element.appendChild(docLink);\n",
              "        }\n",
              "      </script>\n",
              "    </div>\n",
              "  </div>\n",
              "  "
            ]
          },
          "metadata": {},
          "execution_count": 41
        }
      ],
      "source": [
        "df.describe()"
      ]
    },
    {
      "cell_type": "code",
      "execution_count": 42,
      "metadata": {
        "colab": {
          "base_uri": "https://localhost:8080/"
        },
        "id": "YDUpeF5nzmsH",
        "outputId": "c4fd84f6-ffce-4efc-f7de-926ba085104a"
      },
      "outputs": [
        {
          "output_type": "execute_result",
          "data": {
            "text/plain": [
              "TRADE_DATE        0\n",
              "SEC_CODE          0\n",
              "SYMBOL1           0\n",
              "MARKET            0\n",
              "VOLUME            0\n",
              "TRADE_QTY         0\n",
              "NO_OF_TRADES      0\n",
              "HIGH              0\n",
              "BEST_ASK_PRICE    0\n",
              "BEST_ASK_QTY      0\n",
              "BEST_BID_PRICE    0\n",
              "BEST_BID_QTY      0\n",
              "LOW               0\n",
              "dtype: int64"
            ]
          },
          "metadata": {},
          "execution_count": 42
        }
      ],
      "source": [
        "df.isnull().sum()"
      ]
    },
    {
      "cell_type": "code",
      "execution_count": 43,
      "metadata": {
        "colab": {
          "base_uri": "https://localhost:8080/",
          "height": 0
        },
        "id": "vtsDmhK5G0L5",
        "outputId": "099138f2-8ec8-400a-b9bf-0602a405becc"
      },
      "outputs": [
        {
          "output_type": "stream",
          "name": "stderr",
          "text": [
            "<ipython-input-43-2f6f6606aa2c>:1: FutureWarning: The default value of numeric_only in DataFrame.corr is deprecated. In a future version, it will default to False. Select only valid columns or specify the value of numeric_only to silence this warning.\n",
            "  df.corr()\n"
          ]
        },
        {
          "output_type": "execute_result",
          "data": {
            "text/plain": [
              "                SEC_CODE    MARKET    VOLUME  TRADE_QTY  NO_OF_TRADES  \\\n",
              "SEC_CODE        1.000000  0.113634  0.029074   0.001203      0.080537   \n",
              "MARKET          0.113634  1.000000 -0.034048   0.045583      0.001102   \n",
              "VOLUME          0.029074 -0.034048  1.000000   0.620277      0.777427   \n",
              "TRADE_QTY       0.001203  0.045583  0.620277   1.000000      0.449219   \n",
              "NO_OF_TRADES    0.080537  0.001102  0.777427   0.449219      1.000000   \n",
              "HIGH            0.089275 -0.089998  0.310333  -0.013221      0.288890   \n",
              "BEST_ASK_PRICE  0.080564  0.001116  0.777378   0.449198      0.999997   \n",
              "BEST_ASK_QTY    0.013348 -0.099576 -0.026209   0.080231     -0.020228   \n",
              "BEST_BID_PRICE  0.080564  0.001093  0.777434   0.449170      0.999998   \n",
              "BEST_BID_QTY    0.009386 -0.089226 -0.011380   0.075985      0.001323   \n",
              "LOW             0.087945 -0.089948  0.304766  -0.014457      0.283693   \n",
              "\n",
              "                    HIGH  BEST_ASK_PRICE  BEST_ASK_QTY  BEST_BID_PRICE  \\\n",
              "SEC_CODE        0.089275        0.080564      0.013348        0.080564   \n",
              "MARKET         -0.089998        0.001116     -0.099576        0.001093   \n",
              "VOLUME          0.310333        0.777378     -0.026209        0.777434   \n",
              "TRADE_QTY      -0.013221        0.449198      0.080231        0.449170   \n",
              "NO_OF_TRADES    0.288890        0.999997     -0.020228        0.999998   \n",
              "HIGH            1.000000        0.289028     -0.086154        0.289048   \n",
              "BEST_ASK_PRICE  0.289028        1.000000     -0.020253        0.999999   \n",
              "BEST_ASK_QTY   -0.086154       -0.020253      1.000000       -0.020260   \n",
              "BEST_BID_PRICE  0.289048        0.999999     -0.020260        1.000000   \n",
              "BEST_BID_QTY   -0.070636        0.001313      0.271098        0.001308   \n",
              "LOW             0.999832        0.283831     -0.086282        0.283850   \n",
              "\n",
              "                BEST_BID_QTY       LOW  \n",
              "SEC_CODE            0.009386  0.087945  \n",
              "MARKET             -0.089226 -0.089948  \n",
              "VOLUME             -0.011380  0.304766  \n",
              "TRADE_QTY           0.075985 -0.014457  \n",
              "NO_OF_TRADES        0.001323  0.283693  \n",
              "HIGH               -0.070636  0.999832  \n",
              "BEST_ASK_PRICE      0.001313  0.283831  \n",
              "BEST_ASK_QTY        0.271098 -0.086282  \n",
              "BEST_BID_PRICE      0.001308  0.283850  \n",
              "BEST_BID_QTY        1.000000 -0.070707  \n",
              "LOW                -0.070707  1.000000  "
            ],
            "text/html": [
              "\n",
              "  <div id=\"df-08da2e0c-d7a7-42f5-b494-c2fa5618c7a9\">\n",
              "    <div class=\"colab-df-container\">\n",
              "      <div>\n",
              "<style scoped>\n",
              "    .dataframe tbody tr th:only-of-type {\n",
              "        vertical-align: middle;\n",
              "    }\n",
              "\n",
              "    .dataframe tbody tr th {\n",
              "        vertical-align: top;\n",
              "    }\n",
              "\n",
              "    .dataframe thead th {\n",
              "        text-align: right;\n",
              "    }\n",
              "</style>\n",
              "<table border=\"1\" class=\"dataframe\">\n",
              "  <thead>\n",
              "    <tr style=\"text-align: right;\">\n",
              "      <th></th>\n",
              "      <th>SEC_CODE</th>\n",
              "      <th>MARKET</th>\n",
              "      <th>VOLUME</th>\n",
              "      <th>TRADE_QTY</th>\n",
              "      <th>NO_OF_TRADES</th>\n",
              "      <th>HIGH</th>\n",
              "      <th>BEST_ASK_PRICE</th>\n",
              "      <th>BEST_ASK_QTY</th>\n",
              "      <th>BEST_BID_PRICE</th>\n",
              "      <th>BEST_BID_QTY</th>\n",
              "      <th>LOW</th>\n",
              "    </tr>\n",
              "  </thead>\n",
              "  <tbody>\n",
              "    <tr>\n",
              "      <th>SEC_CODE</th>\n",
              "      <td>1.000000</td>\n",
              "      <td>0.113634</td>\n",
              "      <td>0.029074</td>\n",
              "      <td>0.001203</td>\n",
              "      <td>0.080537</td>\n",
              "      <td>0.089275</td>\n",
              "      <td>0.080564</td>\n",
              "      <td>0.013348</td>\n",
              "      <td>0.080564</td>\n",
              "      <td>0.009386</td>\n",
              "      <td>0.087945</td>\n",
              "    </tr>\n",
              "    <tr>\n",
              "      <th>MARKET</th>\n",
              "      <td>0.113634</td>\n",
              "      <td>1.000000</td>\n",
              "      <td>-0.034048</td>\n",
              "      <td>0.045583</td>\n",
              "      <td>0.001102</td>\n",
              "      <td>-0.089998</td>\n",
              "      <td>0.001116</td>\n",
              "      <td>-0.099576</td>\n",
              "      <td>0.001093</td>\n",
              "      <td>-0.089226</td>\n",
              "      <td>-0.089948</td>\n",
              "    </tr>\n",
              "    <tr>\n",
              "      <th>VOLUME</th>\n",
              "      <td>0.029074</td>\n",
              "      <td>-0.034048</td>\n",
              "      <td>1.000000</td>\n",
              "      <td>0.620277</td>\n",
              "      <td>0.777427</td>\n",
              "      <td>0.310333</td>\n",
              "      <td>0.777378</td>\n",
              "      <td>-0.026209</td>\n",
              "      <td>0.777434</td>\n",
              "      <td>-0.011380</td>\n",
              "      <td>0.304766</td>\n",
              "    </tr>\n",
              "    <tr>\n",
              "      <th>TRADE_QTY</th>\n",
              "      <td>0.001203</td>\n",
              "      <td>0.045583</td>\n",
              "      <td>0.620277</td>\n",
              "      <td>1.000000</td>\n",
              "      <td>0.449219</td>\n",
              "      <td>-0.013221</td>\n",
              "      <td>0.449198</td>\n",
              "      <td>0.080231</td>\n",
              "      <td>0.449170</td>\n",
              "      <td>0.075985</td>\n",
              "      <td>-0.014457</td>\n",
              "    </tr>\n",
              "    <tr>\n",
              "      <th>NO_OF_TRADES</th>\n",
              "      <td>0.080537</td>\n",
              "      <td>0.001102</td>\n",
              "      <td>0.777427</td>\n",
              "      <td>0.449219</td>\n",
              "      <td>1.000000</td>\n",
              "      <td>0.288890</td>\n",
              "      <td>0.999997</td>\n",
              "      <td>-0.020228</td>\n",
              "      <td>0.999998</td>\n",
              "      <td>0.001323</td>\n",
              "      <td>0.283693</td>\n",
              "    </tr>\n",
              "    <tr>\n",
              "      <th>HIGH</th>\n",
              "      <td>0.089275</td>\n",
              "      <td>-0.089998</td>\n",
              "      <td>0.310333</td>\n",
              "      <td>-0.013221</td>\n",
              "      <td>0.288890</td>\n",
              "      <td>1.000000</td>\n",
              "      <td>0.289028</td>\n",
              "      <td>-0.086154</td>\n",
              "      <td>0.289048</td>\n",
              "      <td>-0.070636</td>\n",
              "      <td>0.999832</td>\n",
              "    </tr>\n",
              "    <tr>\n",
              "      <th>BEST_ASK_PRICE</th>\n",
              "      <td>0.080564</td>\n",
              "      <td>0.001116</td>\n",
              "      <td>0.777378</td>\n",
              "      <td>0.449198</td>\n",
              "      <td>0.999997</td>\n",
              "      <td>0.289028</td>\n",
              "      <td>1.000000</td>\n",
              "      <td>-0.020253</td>\n",
              "      <td>0.999999</td>\n",
              "      <td>0.001313</td>\n",
              "      <td>0.283831</td>\n",
              "    </tr>\n",
              "    <tr>\n",
              "      <th>BEST_ASK_QTY</th>\n",
              "      <td>0.013348</td>\n",
              "      <td>-0.099576</td>\n",
              "      <td>-0.026209</td>\n",
              "      <td>0.080231</td>\n",
              "      <td>-0.020228</td>\n",
              "      <td>-0.086154</td>\n",
              "      <td>-0.020253</td>\n",
              "      <td>1.000000</td>\n",
              "      <td>-0.020260</td>\n",
              "      <td>0.271098</td>\n",
              "      <td>-0.086282</td>\n",
              "    </tr>\n",
              "    <tr>\n",
              "      <th>BEST_BID_PRICE</th>\n",
              "      <td>0.080564</td>\n",
              "      <td>0.001093</td>\n",
              "      <td>0.777434</td>\n",
              "      <td>0.449170</td>\n",
              "      <td>0.999998</td>\n",
              "      <td>0.289048</td>\n",
              "      <td>0.999999</td>\n",
              "      <td>-0.020260</td>\n",
              "      <td>1.000000</td>\n",
              "      <td>0.001308</td>\n",
              "      <td>0.283850</td>\n",
              "    </tr>\n",
              "    <tr>\n",
              "      <th>BEST_BID_QTY</th>\n",
              "      <td>0.009386</td>\n",
              "      <td>-0.089226</td>\n",
              "      <td>-0.011380</td>\n",
              "      <td>0.075985</td>\n",
              "      <td>0.001323</td>\n",
              "      <td>-0.070636</td>\n",
              "      <td>0.001313</td>\n",
              "      <td>0.271098</td>\n",
              "      <td>0.001308</td>\n",
              "      <td>1.000000</td>\n",
              "      <td>-0.070707</td>\n",
              "    </tr>\n",
              "    <tr>\n",
              "      <th>LOW</th>\n",
              "      <td>0.087945</td>\n",
              "      <td>-0.089948</td>\n",
              "      <td>0.304766</td>\n",
              "      <td>-0.014457</td>\n",
              "      <td>0.283693</td>\n",
              "      <td>0.999832</td>\n",
              "      <td>0.283831</td>\n",
              "      <td>-0.086282</td>\n",
              "      <td>0.283850</td>\n",
              "      <td>-0.070707</td>\n",
              "      <td>1.000000</td>\n",
              "    </tr>\n",
              "  </tbody>\n",
              "</table>\n",
              "</div>\n",
              "      <button class=\"colab-df-convert\" onclick=\"convertToInteractive('df-08da2e0c-d7a7-42f5-b494-c2fa5618c7a9')\"\n",
              "              title=\"Convert this dataframe to an interactive table.\"\n",
              "              style=\"display:none;\">\n",
              "        \n",
              "  <svg xmlns=\"http://www.w3.org/2000/svg\" height=\"24px\"viewBox=\"0 0 24 24\"\n",
              "       width=\"24px\">\n",
              "    <path d=\"M0 0h24v24H0V0z\" fill=\"none\"/>\n",
              "    <path d=\"M18.56 5.44l.94 2.06.94-2.06 2.06-.94-2.06-.94-.94-2.06-.94 2.06-2.06.94zm-11 1L8.5 8.5l.94-2.06 2.06-.94-2.06-.94L8.5 2.5l-.94 2.06-2.06.94zm10 10l.94 2.06.94-2.06 2.06-.94-2.06-.94-.94-2.06-.94 2.06-2.06.94z\"/><path d=\"M17.41 7.96l-1.37-1.37c-.4-.4-.92-.59-1.43-.59-.52 0-1.04.2-1.43.59L10.3 9.45l-7.72 7.72c-.78.78-.78 2.05 0 2.83L4 21.41c.39.39.9.59 1.41.59.51 0 1.02-.2 1.41-.59l7.78-7.78 2.81-2.81c.8-.78.8-2.07 0-2.86zM5.41 20L4 18.59l7.72-7.72 1.47 1.35L5.41 20z\"/>\n",
              "  </svg>\n",
              "      </button>\n",
              "      \n",
              "  <style>\n",
              "    .colab-df-container {\n",
              "      display:flex;\n",
              "      flex-wrap:wrap;\n",
              "      gap: 12px;\n",
              "    }\n",
              "\n",
              "    .colab-df-convert {\n",
              "      background-color: #E8F0FE;\n",
              "      border: none;\n",
              "      border-radius: 50%;\n",
              "      cursor: pointer;\n",
              "      display: none;\n",
              "      fill: #1967D2;\n",
              "      height: 32px;\n",
              "      padding: 0 0 0 0;\n",
              "      width: 32px;\n",
              "    }\n",
              "\n",
              "    .colab-df-convert:hover {\n",
              "      background-color: #E2EBFA;\n",
              "      box-shadow: 0px 1px 2px rgba(60, 64, 67, 0.3), 0px 1px 3px 1px rgba(60, 64, 67, 0.15);\n",
              "      fill: #174EA6;\n",
              "    }\n",
              "\n",
              "    [theme=dark] .colab-df-convert {\n",
              "      background-color: #3B4455;\n",
              "      fill: #D2E3FC;\n",
              "    }\n",
              "\n",
              "    [theme=dark] .colab-df-convert:hover {\n",
              "      background-color: #434B5C;\n",
              "      box-shadow: 0px 1px 3px 1px rgba(0, 0, 0, 0.15);\n",
              "      filter: drop-shadow(0px 1px 2px rgba(0, 0, 0, 0.3));\n",
              "      fill: #FFFFFF;\n",
              "    }\n",
              "  </style>\n",
              "\n",
              "      <script>\n",
              "        const buttonEl =\n",
              "          document.querySelector('#df-08da2e0c-d7a7-42f5-b494-c2fa5618c7a9 button.colab-df-convert');\n",
              "        buttonEl.style.display =\n",
              "          google.colab.kernel.accessAllowed ? 'block' : 'none';\n",
              "\n",
              "        async function convertToInteractive(key) {\n",
              "          const element = document.querySelector('#df-08da2e0c-d7a7-42f5-b494-c2fa5618c7a9');\n",
              "          const dataTable =\n",
              "            await google.colab.kernel.invokeFunction('convertToInteractive',\n",
              "                                                     [key], {});\n",
              "          if (!dataTable) return;\n",
              "\n",
              "          const docLinkHtml = 'Like what you see? Visit the ' +\n",
              "            '<a target=\"_blank\" href=https://colab.research.google.com/notebooks/data_table.ipynb>data table notebook</a>'\n",
              "            + ' to learn more about interactive tables.';\n",
              "          element.innerHTML = '';\n",
              "          dataTable['output_type'] = 'display_data';\n",
              "          await google.colab.output.renderOutput(dataTable, element);\n",
              "          const docLink = document.createElement('div');\n",
              "          docLink.innerHTML = docLinkHtml;\n",
              "          element.appendChild(docLink);\n",
              "        }\n",
              "      </script>\n",
              "    </div>\n",
              "  </div>\n",
              "  "
            ]
          },
          "metadata": {},
          "execution_count": 43
        }
      ],
      "source": [
        "df.corr()"
      ]
    },
    {
      "cell_type": "code",
      "source": [
        "df.duplicated().sum()"
      ],
      "metadata": {
        "colab": {
          "base_uri": "https://localhost:8080/"
        },
        "id": "RZy6vGfouFmX",
        "outputId": "75a49a14-8ceb-44de-9605-195e24e2524d"
      },
      "execution_count": 44,
      "outputs": [
        {
          "output_type": "execute_result",
          "data": {
            "text/plain": [
              "0"
            ]
          },
          "metadata": {},
          "execution_count": 44
        }
      ]
    },
    {
      "cell_type": "markdown",
      "metadata": {
        "id": "cBuNRqj6WWjI"
      },
      "source": [
        "# 4. Preparing The Data"
      ]
    },
    {
      "cell_type": "code",
      "execution_count": 45,
      "metadata": {
        "id": "bcK44LVBWdkW"
      },
      "outputs": [],
      "source": [
        "from sklearn import preprocessing\n",
        "label_encoder = preprocessing.LabelEncoder()\n",
        "df['SYMBOL1'] = label_encoder.fit_transform(df['SYMBOL1'])"
      ]
    },
    {
      "cell_type": "code",
      "source": [
        "df['SYMBOL1'].value_counts()"
      ],
      "metadata": {
        "colab": {
          "base_uri": "https://localhost:8080/"
        },
        "id": "RUKPu9KTxoux",
        "outputId": "9c5e62fe-61f2-4cf0-90f7-85584c17e73c"
      },
      "execution_count": 46,
      "outputs": [
        {
          "output_type": "execute_result",
          "data": {
            "text/plain": [
              "107    247\n",
              "119    247\n",
              "43     247\n",
              "36     247\n",
              "9      247\n",
              "      ... \n",
              "73       2\n",
              "55       1\n",
              "139      1\n",
              "16       1\n",
              "71       1\n",
              "Name: SYMBOL1, Length: 213, dtype: int64"
            ]
          },
          "metadata": {},
          "execution_count": 46
        }
      ]
    },
    {
      "cell_type": "code",
      "source": [
        "import datetime as dt\n",
        "df['TRADE_DATE'] = pd.to_datetime(df['TRADE_DATE'], format = '%d/%m/%Y')\n",
        "df['Month'] = df['TRADE_DATE'].dt.month"
      ],
      "metadata": {
        "id": "UNfcKF27JApn"
      },
      "execution_count": 47,
      "outputs": []
    },
    {
      "cell_type": "code",
      "source": [
        "df.columns"
      ],
      "metadata": {
        "colab": {
          "base_uri": "https://localhost:8080/"
        },
        "id": "8BUXToOlJLwm",
        "outputId": "d8879cb3-90bb-4f47-ebf9-ac474e5576c4"
      },
      "execution_count": 48,
      "outputs": [
        {
          "output_type": "execute_result",
          "data": {
            "text/plain": [
              "Index(['TRADE_DATE', 'SEC_CODE', 'SYMBOL1', 'MARKET', 'VOLUME', 'TRADE_QTY',\n",
              "       'NO_OF_TRADES', 'HIGH', 'BEST_ASK_PRICE', 'BEST_ASK_QTY',\n",
              "       'BEST_BID_PRICE', 'BEST_BID_QTY', 'LOW', 'Month'],\n",
              "      dtype='object')"
            ]
          },
          "metadata": {},
          "execution_count": 48
        }
      ]
    },
    {
      "cell_type": "code",
      "source": [
        "df['Month'].value_counts()"
      ],
      "metadata": {
        "colab": {
          "base_uri": "https://localhost:8080/"
        },
        "id": "R_hFEDZ7JMHV",
        "outputId": "183394ec-4c2e-4764-ef93-107189461853"
      },
      "execution_count": 49,
      "outputs": [
        {
          "output_type": "execute_result",
          "data": {
            "text/plain": [
              "8     2711\n",
              "6     2544\n",
              "3     2513\n",
              "10    2465\n",
              "1     2422\n",
              "9     2405\n",
              "2     2307\n",
              "11    2252\n",
              "7     2203\n",
              "12    2162\n",
              "4     2057\n",
              "5     1971\n",
              "Name: Month, dtype: int64"
            ]
          },
          "metadata": {},
          "execution_count": 49
        }
      ]
    },
    {
      "cell_type": "code",
      "source": [
        "Trades = df.groupby(['Month'])['NO_OF_TRADES'].sum()\n",
        "Trades"
      ],
      "metadata": {
        "colab": {
          "base_uri": "https://localhost:8080/"
        },
        "id": "oZ0c51CUJRHE",
        "outputId": "e015595e-2dcd-4225-e8f4-0998fca6f4d0"
      },
      "execution_count": 50,
      "outputs": [
        {
          "output_type": "execute_result",
          "data": {
            "text/plain": [
              "Month\n",
              "1     64835\n",
              "2     54874\n",
              "3     64280\n",
              "4     66437\n",
              "5     69206\n",
              "6     79444\n",
              "7     82039\n",
              "8     81046\n",
              "9     55625\n",
              "10    61900\n",
              "11    56336\n",
              "12    50038\n",
              "Name: NO_OF_TRADES, dtype: int64"
            ]
          },
          "metadata": {},
          "execution_count": 50
        }
      ]
    },
    {
      "cell_type": "code",
      "source": [
        "HEM = df.groupby(['Month'])['HIGH'].max()\n",
        "HEM"
      ],
      "metadata": {
        "colab": {
          "base_uri": "https://localhost:8080/"
        },
        "id": "nwPyKcgvtnzC",
        "outputId": "fcf522f9-6a63-4a19-d806-ae4b3c8c456a"
      },
      "execution_count": 51,
      "outputs": [
        {
          "output_type": "execute_result",
          "data": {
            "text/plain": [
              "Month\n",
              "1     27.20\n",
              "2     28.40\n",
              "3     35.50\n",
              "4     41.20\n",
              "5     44.50\n",
              "6     44.25\n",
              "7     44.49\n",
              "8     43.65\n",
              "9     41.73\n",
              "10    39.69\n",
              "11    38.40\n",
              "12    36.98\n",
              "Name: HIGH, dtype: float64"
            ]
          },
          "metadata": {},
          "execution_count": 51
        }
      ]
    },
    {
      "cell_type": "markdown",
      "source": [
        "# 5. Analyzing"
      ],
      "metadata": {
        "id": "L2wm7_FIAonY"
      }
    },
    {
      "cell_type": "markdown",
      "metadata": {
        "id": "5g-uqsZU2cLr"
      },
      "source": [
        "### 5.1. Analyzing HIGH Feature  "
      ]
    },
    {
      "cell_type": "code",
      "source": [
        "# Measure Of Position (Decile)\n",
        "deciles = np.percentile(df['HIGH'], np.arange(10, 110, 10))\n",
        "for i, decile in enumerate(deciles):\n",
        "    print(f\"{(i+1)*10}th Decile: {decile}\")\n",
        "# Median is the 50th a measure of central tendency which equals to 0.71\n",
        "# As decribed in the df.decribe(), the minimum is 0.02 and the max is 44.5"
      ],
      "metadata": {
        "colab": {
          "base_uri": "https://localhost:8080/"
        },
        "id": "21ojvNq9CGUk",
        "outputId": "c0601246-8b37-4fde-c705-f60aac8f00a2"
      },
      "execution_count": 52,
      "outputs": [
        {
          "output_type": "stream",
          "name": "stdout",
          "text": [
            "10th Decile: 0.19\n",
            "20th Decile: 0.33\n",
            "30th Decile: 0.43\n",
            "40th Decile: 0.53\n",
            "50th Decile: 0.71\n",
            "60th Decile: 0.93\n",
            "70th Decile: 1.27\n",
            "80th Decile: 1.75\n",
            "90th Decile: 2.55\n",
            "100th Decile: 44.5\n"
          ]
        }
      ]
    },
    {
      "cell_type": "code",
      "source": [
        "# Measure Of Position (Percentiles)\n",
        "High_Percentiles = np.percentile(df['HIGH'], [96, 98 , 98.5])\n",
        "print(\"97th Percentile: \", High_Percentiles[0])\n",
        "print(\"98th Percentile: \", High_Percentiles[1])\n",
        "print(\"98.5th Percentile: \", High_Percentiles[2])"
      ],
      "metadata": {
        "colab": {
          "base_uri": "https://localhost:8080/"
        },
        "id": "0tDXRI4nCYZI",
        "outputId": "1d4ec13a-e196-444f-8b1f-0b13b2de4c98"
      },
      "execution_count": 53,
      "outputs": [
        {
          "output_type": "stream",
          "name": "stdout",
          "text": [
            "97th Percentile:  4.93\n",
            "98th Percentile:  10.31779999999999\n",
            "98.5th Percentile:  26.575149999999923\n"
          ]
        }
      ]
    },
    {
      "cell_type": "code",
      "source": [
        "# Measures of Central Tendency\n",
        "High_Mean   = st.mean(df['HIGH'])\n",
        "print(\"The Mean Of The High Price Is:\"  , High_Mean)\n",
        "Meanlessthan11 = df.loc[df['HIGH'] <= 5]\n",
        "print(\"The Mean with almost removing all outliers\" , Meanlessthan11['HIGH'].mean())"
      ],
      "metadata": {
        "colab": {
          "base_uri": "https://localhost:8080/"
        },
        "id": "V8SXLkWF8Ich",
        "outputId": "b1656cf8-0cb3-4424-89dd-ae4e2baf2673"
      },
      "execution_count": 54,
      "outputs": [
        {
          "output_type": "stream",
          "name": "stdout",
          "text": [
            "The Mean Of The High Price Is: 1.7138155076395831\n",
            "The Mean with almost removing all outliers 0.9888306721128852\n"
          ]
        }
      ]
    },
    {
      "cell_type": "code",
      "execution_count": 55,
      "metadata": {
        "colab": {
          "base_uri": "https://localhost:8080/"
        },
        "id": "1L0kjgQALt9D",
        "outputId": "8bfff3e8-2911-4d08-f1e6-dca5fffc6c4c"
      },
      "outputs": [
        {
          "output_type": "execute_result",
          "data": {
            "text/plain": [
              "21709    44.50\n",
              "11246    44.49\n",
              "5737     44.40\n",
              "20704    44.40\n",
              "8565     44.40\n",
              "         ...  \n",
              "23585     0.02\n",
              "9469      0.02\n",
              "23617     0.02\n",
              "17214     0.02\n",
              "22712     0.02\n",
              "Name: HIGH, Length: 28012, dtype: float64"
            ]
          },
          "metadata": {},
          "execution_count": 55
        }
      ],
      "source": [
        "df['HIGH'].sort_values(ascending = False)"
      ]
    },
    {
      "cell_type": "markdown",
      "source": [
        "### 5.2. Analyzing NO_OF_TRADES Feature"
      ],
      "metadata": {
        "id": "-bB3MUyjG4Mq"
      }
    },
    {
      "cell_type": "code",
      "source": [
        "# Measure Of Position (Decile)\n",
        "deciles = np.percentile(df['NO_OF_TRADES'], np.arange(10, 110, 10))\n",
        "for i, decile in enumerate(deciles):\n",
        "    print(f\"{(i+1)*10}th Decile: {decile}\")\n",
        "# Median is the 50th a measure of central tendency which equals to (9)\n",
        "# As decribed in the df.decribe(), the minimum is 1 and the max is 1700"
      ],
      "metadata": {
        "colab": {
          "base_uri": "https://localhost:8080/"
        },
        "id": "mVQ28vgizU7J",
        "outputId": "1060676b-e9ce-4d1d-deb5-d3ccd276bc22"
      },
      "execution_count": 56,
      "outputs": [
        {
          "output_type": "stream",
          "name": "stdout",
          "text": [
            "10th Decile: 1.0\n",
            "20th Decile: 2.0\n",
            "30th Decile: 4.0\n",
            "40th Decile: 6.0\n",
            "50th Decile: 9.0\n",
            "60th Decile: 13.0\n",
            "70th Decile: 19.0\n",
            "80th Decile: 33.0\n",
            "90th Decile: 67.0\n",
            "100th Decile: 1700.0\n"
          ]
        }
      ]
    },
    {
      "cell_type": "code",
      "source": [
        "# Measure Of Position (Percentiles)\n",
        "NOT_Percentiles = np.percentile(df['NO_OF_TRADES'], [91, 98, 99.9])\n",
        "print(\"97th Percentile: \", NOT_Percentiles[0])\n",
        "print(\"98th Percentile: \", NOT_Percentiles[1])\n",
        "print(\"99.9th Percentile: \", NOT_Percentiles[2])"
      ],
      "metadata": {
        "colab": {
          "base_uri": "https://localhost:8080/"
        },
        "id": "Yw7AL9Duy7J_",
        "outputId": "7a625ece-e4b2-4af5-925f-a26c24648e84"
      },
      "execution_count": 57,
      "outputs": [
        {
          "output_type": "stream",
          "name": "stdout",
          "text": [
            "97th Percentile:  73.0\n",
            "98th Percentile:  204.0\n",
            "99.9th Percentile:  821.9560000000056\n"
          ]
        }
      ]
    },
    {
      "cell_type": "code",
      "source": [
        "# Measures of Dispersion (Coefficient of Variation:)\n",
        "NOT_COF = df['NO_OF_TRADES'].std()/df['NO_OF_TRADES'].mean() * 100\n",
        "print(\"The Coefficient of Variation Of Number Of Trades Is:\" , NOT_COF)\n",
        "# The values in this column are spread out compared to the mean (so much) which indicates to the differences between the values"
      ],
      "metadata": {
        "colab": {
          "base_uri": "https://localhost:8080/"
        },
        "id": "LRBztkO2FYkB",
        "outputId": "9359d1a7-2a46-4bde-f43f-8316f4451785"
      },
      "execution_count": 58,
      "outputs": [
        {
          "output_type": "stream",
          "name": "stdout",
          "text": [
            "The Coefficient of Variation Of Number Of Trades Is: 236.02052854736914\n"
          ]
        }
      ]
    },
    {
      "cell_type": "code",
      "source": [
        "df['NO_OF_TRADES'].sort_values(ascending = False)"
      ],
      "metadata": {
        "id": "HHkM7dMgNT4o",
        "colab": {
          "base_uri": "https://localhost:8080/"
        },
        "outputId": "ccc42b95-9b78-46d3-dc76-c537aee5c4a7"
      },
      "execution_count": 59,
      "outputs": [
        {
          "output_type": "execute_result",
          "data": {
            "text/plain": [
              "9274     1700\n",
              "8586     1499\n",
              "9125     1303\n",
              "27794    1253\n",
              "23443    1239\n",
              "         ... \n",
              "17502       1\n",
              "17480       1\n",
              "17473       1\n",
              "1013        1\n",
              "15280       1\n",
              "Name: NO_OF_TRADES, Length: 28012, dtype: int64"
            ]
          },
          "metadata": {},
          "execution_count": 59
        }
      ]
    },
    {
      "cell_type": "markdown",
      "source": [
        "### 5.3. Analyzing Market Feature"
      ],
      "metadata": {
        "id": "b31r3n_iMbti"
      }
    },
    {
      "cell_type": "code",
      "source": [
        "# Measures of Central Tendency\n",
        "Market_Mode   = st.mode(df['MARKET'])\n",
        "print(\"The Mode Of The Market Is:\" , Market_Mode)"
      ],
      "metadata": {
        "colab": {
          "base_uri": "https://localhost:8080/"
        },
        "id": "YQ3G7nhHMyCf",
        "outputId": "3c8b5ea3-94b9-49b1-be37-597b4c67d315"
      },
      "execution_count": 60,
      "outputs": [
        {
          "output_type": "stream",
          "name": "stdout",
          "text": [
            "The Mode Of The Market Is: 2\n"
          ]
        }
      ]
    },
    {
      "cell_type": "code",
      "source": [
        "Market = df.groupby('MARKET').size().reset_index(name='Frequency')\n",
        "Market"
      ],
      "metadata": {
        "colab": {
          "base_uri": "https://localhost:8080/",
          "height": 0
        },
        "id": "VqhCnI1lG856",
        "outputId": "2274e27c-eabe-4ad9-d3ce-2476793c5fcf"
      },
      "execution_count": 61,
      "outputs": [
        {
          "output_type": "execute_result",
          "data": {
            "text/plain": [
              "   MARKET  Frequency\n",
              "0       0       4569\n",
              "1       1       8064\n",
              "2       2      15379"
            ],
            "text/html": [
              "\n",
              "  <div id=\"df-173feaa4-14e5-41ba-b8f6-1d7cd7da52ee\">\n",
              "    <div class=\"colab-df-container\">\n",
              "      <div>\n",
              "<style scoped>\n",
              "    .dataframe tbody tr th:only-of-type {\n",
              "        vertical-align: middle;\n",
              "    }\n",
              "\n",
              "    .dataframe tbody tr th {\n",
              "        vertical-align: top;\n",
              "    }\n",
              "\n",
              "    .dataframe thead th {\n",
              "        text-align: right;\n",
              "    }\n",
              "</style>\n",
              "<table border=\"1\" class=\"dataframe\">\n",
              "  <thead>\n",
              "    <tr style=\"text-align: right;\">\n",
              "      <th></th>\n",
              "      <th>MARKET</th>\n",
              "      <th>Frequency</th>\n",
              "    </tr>\n",
              "  </thead>\n",
              "  <tbody>\n",
              "    <tr>\n",
              "      <th>0</th>\n",
              "      <td>0</td>\n",
              "      <td>4569</td>\n",
              "    </tr>\n",
              "    <tr>\n",
              "      <th>1</th>\n",
              "      <td>1</td>\n",
              "      <td>8064</td>\n",
              "    </tr>\n",
              "    <tr>\n",
              "      <th>2</th>\n",
              "      <td>2</td>\n",
              "      <td>15379</td>\n",
              "    </tr>\n",
              "  </tbody>\n",
              "</table>\n",
              "</div>\n",
              "      <button class=\"colab-df-convert\" onclick=\"convertToInteractive('df-173feaa4-14e5-41ba-b8f6-1d7cd7da52ee')\"\n",
              "              title=\"Convert this dataframe to an interactive table.\"\n",
              "              style=\"display:none;\">\n",
              "        \n",
              "  <svg xmlns=\"http://www.w3.org/2000/svg\" height=\"24px\"viewBox=\"0 0 24 24\"\n",
              "       width=\"24px\">\n",
              "    <path d=\"M0 0h24v24H0V0z\" fill=\"none\"/>\n",
              "    <path d=\"M18.56 5.44l.94 2.06.94-2.06 2.06-.94-2.06-.94-.94-2.06-.94 2.06-2.06.94zm-11 1L8.5 8.5l.94-2.06 2.06-.94-2.06-.94L8.5 2.5l-.94 2.06-2.06.94zm10 10l.94 2.06.94-2.06 2.06-.94-2.06-.94-.94-2.06-.94 2.06-2.06.94z\"/><path d=\"M17.41 7.96l-1.37-1.37c-.4-.4-.92-.59-1.43-.59-.52 0-1.04.2-1.43.59L10.3 9.45l-7.72 7.72c-.78.78-.78 2.05 0 2.83L4 21.41c.39.39.9.59 1.41.59.51 0 1.02-.2 1.41-.59l7.78-7.78 2.81-2.81c.8-.78.8-2.07 0-2.86zM5.41 20L4 18.59l7.72-7.72 1.47 1.35L5.41 20z\"/>\n",
              "  </svg>\n",
              "      </button>\n",
              "      \n",
              "  <style>\n",
              "    .colab-df-container {\n",
              "      display:flex;\n",
              "      flex-wrap:wrap;\n",
              "      gap: 12px;\n",
              "    }\n",
              "\n",
              "    .colab-df-convert {\n",
              "      background-color: #E8F0FE;\n",
              "      border: none;\n",
              "      border-radius: 50%;\n",
              "      cursor: pointer;\n",
              "      display: none;\n",
              "      fill: #1967D2;\n",
              "      height: 32px;\n",
              "      padding: 0 0 0 0;\n",
              "      width: 32px;\n",
              "    }\n",
              "\n",
              "    .colab-df-convert:hover {\n",
              "      background-color: #E2EBFA;\n",
              "      box-shadow: 0px 1px 2px rgba(60, 64, 67, 0.3), 0px 1px 3px 1px rgba(60, 64, 67, 0.15);\n",
              "      fill: #174EA6;\n",
              "    }\n",
              "\n",
              "    [theme=dark] .colab-df-convert {\n",
              "      background-color: #3B4455;\n",
              "      fill: #D2E3FC;\n",
              "    }\n",
              "\n",
              "    [theme=dark] .colab-df-convert:hover {\n",
              "      background-color: #434B5C;\n",
              "      box-shadow: 0px 1px 3px 1px rgba(0, 0, 0, 0.15);\n",
              "      filter: drop-shadow(0px 1px 2px rgba(0, 0, 0, 0.3));\n",
              "      fill: #FFFFFF;\n",
              "    }\n",
              "  </style>\n",
              "\n",
              "      <script>\n",
              "        const buttonEl =\n",
              "          document.querySelector('#df-173feaa4-14e5-41ba-b8f6-1d7cd7da52ee button.colab-df-convert');\n",
              "        buttonEl.style.display =\n",
              "          google.colab.kernel.accessAllowed ? 'block' : 'none';\n",
              "\n",
              "        async function convertToInteractive(key) {\n",
              "          const element = document.querySelector('#df-173feaa4-14e5-41ba-b8f6-1d7cd7da52ee');\n",
              "          const dataTable =\n",
              "            await google.colab.kernel.invokeFunction('convertToInteractive',\n",
              "                                                     [key], {});\n",
              "          if (!dataTable) return;\n",
              "\n",
              "          const docLinkHtml = 'Like what you see? Visit the ' +\n",
              "            '<a target=\"_blank\" href=https://colab.research.google.com/notebooks/data_table.ipynb>data table notebook</a>'\n",
              "            + ' to learn more about interactive tables.';\n",
              "          element.innerHTML = '';\n",
              "          dataTable['output_type'] = 'display_data';\n",
              "          await google.colab.output.renderOutput(dataTable, element);\n",
              "          const docLink = document.createElement('div');\n",
              "          docLink.innerHTML = docLinkHtml;\n",
              "          element.appendChild(docLink);\n",
              "        }\n",
              "      </script>\n",
              "    </div>\n",
              "  </div>\n",
              "  "
            ]
          },
          "metadata": {},
          "execution_count": 61
        }
      ]
    },
    {
      "cell_type": "code",
      "source": [
        "Market['Relative_Frequency'] = Market['Frequency'] / len(df)\n",
        "Market"
      ],
      "metadata": {
        "colab": {
          "base_uri": "https://localhost:8080/",
          "height": 0
        },
        "id": "uSEA1jBAHjD-",
        "outputId": "530d88e1-12d6-4a76-c3e4-0d07ac8b7324"
      },
      "execution_count": 62,
      "outputs": [
        {
          "output_type": "execute_result",
          "data": {
            "text/plain": [
              "   MARKET  Frequency  Relative_Frequency\n",
              "0       0       4569            0.163109\n",
              "1       1       8064            0.287877\n",
              "2       2      15379            0.549015"
            ],
            "text/html": [
              "\n",
              "  <div id=\"df-3743669b-6dec-475a-8866-05017b711f38\">\n",
              "    <div class=\"colab-df-container\">\n",
              "      <div>\n",
              "<style scoped>\n",
              "    .dataframe tbody tr th:only-of-type {\n",
              "        vertical-align: middle;\n",
              "    }\n",
              "\n",
              "    .dataframe tbody tr th {\n",
              "        vertical-align: top;\n",
              "    }\n",
              "\n",
              "    .dataframe thead th {\n",
              "        text-align: right;\n",
              "    }\n",
              "</style>\n",
              "<table border=\"1\" class=\"dataframe\">\n",
              "  <thead>\n",
              "    <tr style=\"text-align: right;\">\n",
              "      <th></th>\n",
              "      <th>MARKET</th>\n",
              "      <th>Frequency</th>\n",
              "      <th>Relative_Frequency</th>\n",
              "    </tr>\n",
              "  </thead>\n",
              "  <tbody>\n",
              "    <tr>\n",
              "      <th>0</th>\n",
              "      <td>0</td>\n",
              "      <td>4569</td>\n",
              "      <td>0.163109</td>\n",
              "    </tr>\n",
              "    <tr>\n",
              "      <th>1</th>\n",
              "      <td>1</td>\n",
              "      <td>8064</td>\n",
              "      <td>0.287877</td>\n",
              "    </tr>\n",
              "    <tr>\n",
              "      <th>2</th>\n",
              "      <td>2</td>\n",
              "      <td>15379</td>\n",
              "      <td>0.549015</td>\n",
              "    </tr>\n",
              "  </tbody>\n",
              "</table>\n",
              "</div>\n",
              "      <button class=\"colab-df-convert\" onclick=\"convertToInteractive('df-3743669b-6dec-475a-8866-05017b711f38')\"\n",
              "              title=\"Convert this dataframe to an interactive table.\"\n",
              "              style=\"display:none;\">\n",
              "        \n",
              "  <svg xmlns=\"http://www.w3.org/2000/svg\" height=\"24px\"viewBox=\"0 0 24 24\"\n",
              "       width=\"24px\">\n",
              "    <path d=\"M0 0h24v24H0V0z\" fill=\"none\"/>\n",
              "    <path d=\"M18.56 5.44l.94 2.06.94-2.06 2.06-.94-2.06-.94-.94-2.06-.94 2.06-2.06.94zm-11 1L8.5 8.5l.94-2.06 2.06-.94-2.06-.94L8.5 2.5l-.94 2.06-2.06.94zm10 10l.94 2.06.94-2.06 2.06-.94-2.06-.94-.94-2.06-.94 2.06-2.06.94z\"/><path d=\"M17.41 7.96l-1.37-1.37c-.4-.4-.92-.59-1.43-.59-.52 0-1.04.2-1.43.59L10.3 9.45l-7.72 7.72c-.78.78-.78 2.05 0 2.83L4 21.41c.39.39.9.59 1.41.59.51 0 1.02-.2 1.41-.59l7.78-7.78 2.81-2.81c.8-.78.8-2.07 0-2.86zM5.41 20L4 18.59l7.72-7.72 1.47 1.35L5.41 20z\"/>\n",
              "  </svg>\n",
              "      </button>\n",
              "      \n",
              "  <style>\n",
              "    .colab-df-container {\n",
              "      display:flex;\n",
              "      flex-wrap:wrap;\n",
              "      gap: 12px;\n",
              "    }\n",
              "\n",
              "    .colab-df-convert {\n",
              "      background-color: #E8F0FE;\n",
              "      border: none;\n",
              "      border-radius: 50%;\n",
              "      cursor: pointer;\n",
              "      display: none;\n",
              "      fill: #1967D2;\n",
              "      height: 32px;\n",
              "      padding: 0 0 0 0;\n",
              "      width: 32px;\n",
              "    }\n",
              "\n",
              "    .colab-df-convert:hover {\n",
              "      background-color: #E2EBFA;\n",
              "      box-shadow: 0px 1px 2px rgba(60, 64, 67, 0.3), 0px 1px 3px 1px rgba(60, 64, 67, 0.15);\n",
              "      fill: #174EA6;\n",
              "    }\n",
              "\n",
              "    [theme=dark] .colab-df-convert {\n",
              "      background-color: #3B4455;\n",
              "      fill: #D2E3FC;\n",
              "    }\n",
              "\n",
              "    [theme=dark] .colab-df-convert:hover {\n",
              "      background-color: #434B5C;\n",
              "      box-shadow: 0px 1px 3px 1px rgba(0, 0, 0, 0.15);\n",
              "      filter: drop-shadow(0px 1px 2px rgba(0, 0, 0, 0.3));\n",
              "      fill: #FFFFFF;\n",
              "    }\n",
              "  </style>\n",
              "\n",
              "      <script>\n",
              "        const buttonEl =\n",
              "          document.querySelector('#df-3743669b-6dec-475a-8866-05017b711f38 button.colab-df-convert');\n",
              "        buttonEl.style.display =\n",
              "          google.colab.kernel.accessAllowed ? 'block' : 'none';\n",
              "\n",
              "        async function convertToInteractive(key) {\n",
              "          const element = document.querySelector('#df-3743669b-6dec-475a-8866-05017b711f38');\n",
              "          const dataTable =\n",
              "            await google.colab.kernel.invokeFunction('convertToInteractive',\n",
              "                                                     [key], {});\n",
              "          if (!dataTable) return;\n",
              "\n",
              "          const docLinkHtml = 'Like what you see? Visit the ' +\n",
              "            '<a target=\"_blank\" href=https://colab.research.google.com/notebooks/data_table.ipynb>data table notebook</a>'\n",
              "            + ' to learn more about interactive tables.';\n",
              "          element.innerHTML = '';\n",
              "          dataTable['output_type'] = 'display_data';\n",
              "          await google.colab.output.renderOutput(dataTable, element);\n",
              "          const docLink = document.createElement('div');\n",
              "          docLink.innerHTML = docLinkHtml;\n",
              "          element.appendChild(docLink);\n",
              "        }\n",
              "      </script>\n",
              "    </div>\n",
              "  </div>\n",
              "  "
            ]
          },
          "metadata": {},
          "execution_count": 62
        }
      ]
    },
    {
      "cell_type": "code",
      "source": [
        "df['MARKET'].unique()"
      ],
      "metadata": {
        "colab": {
          "base_uri": "https://localhost:8080/"
        },
        "id": "Cojn8264Sgpc",
        "outputId": "a899773a-fe2c-4c02-94f9-c99300c4faad"
      },
      "execution_count": 63,
      "outputs": [
        {
          "output_type": "execute_result",
          "data": {
            "text/plain": [
              "array([1, 2, 0])"
            ]
          },
          "metadata": {},
          "execution_count": 63
        }
      ]
    },
    {
      "cell_type": "markdown",
      "source": [
        "### 5.4. Visualizing"
      ],
      "metadata": {
        "id": "iUB83TuMQ9Qy"
      }
    },
    {
      "cell_type": "code",
      "source": [
        "NOTM = pd.DataFrame(df.groupby(['MARKET'])['NO_OF_TRADES'].sum())\n",
        "NOTM.plot.bar()\n",
        "plt.title(\"Number Of Trades Each Market\")\n",
        "plt.show()"
      ],
      "metadata": {
        "colab": {
          "base_uri": "https://localhost:8080/",
          "height": 0
        },
        "id": "YQHL1daDxrJz",
        "outputId": "9bb327d3-834c-4524-a560-c0800eed41a3"
      },
      "execution_count": 64,
      "outputs": [
        {
          "output_type": "display_data",
          "data": {
            "text/plain": [
              "<Figure size 640x480 with 1 Axes>"
            ],
            "image/png": "[encoded data removed]"
          },
          "metadata": {}
        }
      ]
    },
    {
      "cell_type": "code",
      "execution_count": 65,
      "metadata": {
        "id": "TKN0QNLvdfr_",
        "colab": {
          "base_uri": "https://localhost:8080/",
          "height": 0
        },
        "outputId": "9fe62f59-0bef-4ce0-bf65-1e79506137bd"
      },
      "outputs": [
        {
          "output_type": "display_data",
          "data": {
            "text/plain": [
              "<Figure size 500x500 with 1 Axes>"
            ],
            "image/png": "[encoded data removed]"
          },
          "metadata": {}
        }
      ],
      "source": [
        "sns.displot(x = 'HIGH', data=df)\n",
        "plt.title(\"High Price Distribution\")\n",
        "plt.show()"
      ]
    },
    {
      "cell_type": "code",
      "source": [
        "SeeH = df[(df['HIGH'] <= 5) & (df['MARKET'] == 0)]\n",
        "sns.displot(x = 'HIGH', hue = 'MARKET', palette=\"bright\", data=SeeH)\n",
        "plt.title(\"High Price Distribution Based On Market 0\")\n",
        "plt.show()"
      ],
      "metadata": {
        "colab": {
          "base_uri": "https://localhost:8080/",
          "height": 0
        },
        "id": "5arRKKu95z0n",
        "outputId": "fb75a488-be6a-4a6c-bec1-a44469d067cd"
      },
      "execution_count": 66,
      "outputs": [
        {
          "output_type": "display_data",
          "data": {
            "text/plain": [
              "<Figure size 568.486x500 with 1 Axes>"
            ],
            "image/png": "[encoded data removed]"
          },
          "metadata": {}
        }
      ]
    },
    {
      "cell_type": "code",
      "source": [
        "SeeH = df[(df['HIGH'] <= 5) & (df['MARKET'] == 1)]\n",
        "sns.displot(x = 'HIGH', hue = 'MARKET', palette=\"bright\", data=SeeH)\n",
        "plt.title(\"High Price Distribution Based On Market 1\")\n",
        "plt.show()"
      ],
      "metadata": {
        "colab": {
          "base_uri": "https://localhost:8080/",
          "height": 0
        },
        "id": "OOcFWe55ufcG",
        "outputId": "d51cef5e-f444-4ce8-ef8b-9fdd27bf04af"
      },
      "execution_count": 67,
      "outputs": [
        {
          "output_type": "display_data",
          "data": {
            "text/plain": [
              "<Figure size 568.486x500 with 1 Axes>"
            ],
            "image/png": "[encoded data removed]"
          },
          "metadata": {}
        }
      ]
    },
    {
      "cell_type": "code",
      "source": [
        "SeeH = df[(df['HIGH'] <= 5) & (df['MARKET'] == 2)]\n",
        "sns.displot(x = 'HIGH', hue = 'MARKET', palette=\"bright\", data=SeeH)\n",
        "plt.title(\"High Price Distribution Based On Market 2\")\n",
        "plt.show()"
      ],
      "metadata": {
        "colab": {
          "base_uri": "https://localhost:8080/",
          "height": 0
        },
        "id": "n-ORo6Bcuvlf",
        "outputId": "bba2ffb7-d73f-40a6-84f3-dc22af6681ba"
      },
      "execution_count": 68,
      "outputs": [
        {
          "output_type": "display_data",
          "data": {
            "text/plain": [
              "<Figure size 568.486x500 with 1 Axes>"
            ],
            "image/png": "[encoded data removed]"
          },
          "metadata": {}
        }
      ]
    },
    {
      "cell_type": "code",
      "source": [
        "SeeH2 = df[(df['HIGH'] > 5) & (df['MARKET'] == 0)]\n",
        "sns.displot(x = 'HIGH', hue = 'MARKET', palette=\"bright\", data=SeeH2)\n",
        "plt.title(\"High Price Distribution Based On Market 0\")\n",
        "plt.show()"
      ],
      "metadata": {
        "colab": {
          "base_uri": "https://localhost:8080/",
          "height": 0
        },
        "id": "cg2voNX-6Lyr",
        "outputId": "fed6476c-ee91-4a4d-e0ff-553bd576c918"
      },
      "execution_count": 69,
      "outputs": [
        {
          "output_type": "display_data",
          "data": {
            "text/plain": [
              "<Figure size 568.486x500 with 1 Axes>"
            ],
            "image/png": "[encoded data removed]"
          },
          "metadata": {}
        }
      ]
    },
    {
      "cell_type": "code",
      "source": [
        "SeeH2 = df[(df['HIGH'] > 5) & (df['MARKET'] == 1)]\n",
        "sns.displot(x = 'HIGH', hue = 'MARKET', palette=\"bright\", data=SeeH2)\n",
        "plt.title(\"High Price Distribution Based On Market 1\")\n",
        "plt.show()"
      ],
      "metadata": {
        "colab": {
          "base_uri": "https://localhost:8080/",
          "height": 0
        },
        "id": "5h817UMwo9bD",
        "outputId": "dda1d484-0b44-43cf-d31f-bc9070311a1d"
      },
      "execution_count": 70,
      "outputs": [
        {
          "output_type": "display_data",
          "data": {
            "text/plain": [
              "<Figure size 568.486x500 with 1 Axes>"
            ],
            "image/png": "[encoded data removed]"
          },
          "metadata": {}
        }
      ]
    },
    {
      "cell_type": "code",
      "source": [
        "SeeH2 = df[(df['HIGH'] > 5) & (df['MARKET'] == 2)]\n",
        "sns.displot(x = 'HIGH', hue = 'MARKET', palette=\"bright\", data=SeeH2)\n",
        "plt.title(\"High Price Distribution Based On Market 2\")\n",
        "plt.show()"
      ],
      "metadata": {
        "colab": {
          "base_uri": "https://localhost:8080/",
          "height": 0
        },
        "id": "LLSvlFdrpCC0",
        "outputId": "b69efd49-a05f-4201-eebe-81628f4ac0fe"
      },
      "execution_count": 71,
      "outputs": [
        {
          "output_type": "display_data",
          "data": {
            "text/plain": [
              "<Figure size 568.486x500 with 1 Axes>"
            ],
            "image/png": "[encoded data removed]"
          },
          "metadata": {}
        }
      ]
    },
    {
      "cell_type": "code",
      "source": [
        "Less = df[(df['HIGH'] < 50) & (df['NO_OF_TRADES'] <= 545)]\n",
        "sns.scatterplot(x = \"NO_OF_TRADES\", y = \"HIGH\", hue = 'MARKET', palette=\"bright\", data = Less)\n",
        "plt.title(\"Number Of Trades Based On The High Price And The Market\")\n",
        "plt.show()"
      ],
      "metadata": {
        "id": "ym8ck3ZJuiNC",
        "colab": {
          "base_uri": "https://localhost:8080/",
          "height": 0
        },
        "outputId": "6d4ff860-9d66-4ae8-f450-28d11f8a0c14"
      },
      "execution_count": 72,
      "outputs": [
        {
          "output_type": "display_data",
          "data": {
            "text/plain": [
              "<Figure size 640x480 with 1 Axes>"
            ],
            "image/png": "[encoded data removed]"
          },
          "metadata": {}
        }
      ]
    },
    {
      "cell_type": "code",
      "source": [
        "Highdf = df[(df['HIGH'] < 50) & (df['NO_OF_TRADES'] > 545)]\n",
        "sns.scatterplot(x = \"NO_OF_TRADES\" , y = \"HIGH\", hue = 'MARKET', palette=\"deep\", data = Highdf)\n",
        "plt.title(\"Number Of Trades Based On The High Price And The Market\")\n",
        "plt.show()"
      ],
      "metadata": {
        "colab": {
          "base_uri": "https://localhost:8080/",
          "height": 0
        },
        "id": "A6otDDjl0LUb",
        "outputId": "bc189bc7-f273-4211-e2a2-2df47f01cc34"
      },
      "execution_count": 73,
      "outputs": [
        {
          "output_type": "display_data",
          "data": {
            "text/plain": [
              "<Figure size 640x480 with 1 Axes>"
            ],
            "image/png": "[encoded data removed]"
          },
          "metadata": {}
        }
      ]
    },
    {
      "cell_type": "code",
      "source": [
        "HEM.plot.bar()\n",
        "plt.title(\"The Highest Price For Each Month\")\n",
        "plt.ylabel(\"Highest Price\")\n",
        "plt.show()"
      ],
      "metadata": {
        "colab": {
          "base_uri": "https://localhost:8080/",
          "height": 0
        },
        "id": "vYcxCBCq2qNy",
        "outputId": "ddc7f575-14de-4ad6-cb04-92dc27001b7f"
      },
      "execution_count": 74,
      "outputs": [
        {
          "output_type": "display_data",
          "data": {
            "text/plain": [
              "<Figure size 640x480 with 1 Axes>"
            ],
            "image/png": "[encoded data removed]"
          },
          "metadata": {}
        }
      ]
    },
    {
      "cell_type": "code",
      "source": [
        "Trades.plot.bar()\n",
        "plt.title(\"Number Of Trades Each Month\")\n",
        "plt.ylabel(\"Counts\")\n",
        "plt.show()"
      ],
      "metadata": {
        "colab": {
          "base_uri": "https://localhost:8080/",
          "height": 0
        },
        "id": "rCCvRuo3nZXX",
        "outputId": "79bb597e-7131-4721-e601-276ee1376967"
      },
      "execution_count": 75,
      "outputs": [
        {
          "output_type": "display_data",
          "data": {
            "text/plain": [
              "<Figure size 640x480 with 1 Axes>"
            ],
            "image/png": "[encoded data removed]"
          },
          "metadata": {}
        }
      ]
    },
    {
      "cell_type": "code",
      "source": [
        "sns.displot(x = 'NO_OF_TRADES' , data = df)\n",
        "plt.title(\"Number Of Trades Distribution\")\n",
        "plt.show()"
      ],
      "metadata": {
        "colab": {
          "base_uri": "https://localhost:8080/",
          "height": 0
        },
        "id": "yTNMtf8Ueo_k",
        "outputId": "055e4c47-5374-4804-9117-57fce9e9bac1"
      },
      "execution_count": 76,
      "outputs": [
        {
          "output_type": "display_data",
          "data": {
            "text/plain": [
              "<Figure size 500x500 with 1 Axes>"
            ],
            "image/png": "[encoded data removed]"
          },
          "metadata": {}
        }
      ]
    },
    {
      "cell_type": "code",
      "source": [
        "SeeN = df[df['NO_OF_TRADES'] <= 90]\n",
        "sns.displot(x = 'NO_OF_TRADES' , data=SeeN)\n",
        "plt.title(\"Number Of Trades Less & Equal Than 90\")\n",
        "plt.show()"
      ],
      "metadata": {
        "colab": {
          "base_uri": "https://localhost:8080/",
          "height": 0
        },
        "id": "7NBWsKt-6fS9",
        "outputId": "c4040fd2-ee12-423d-9b12-686ea3443326"
      },
      "execution_count": 77,
      "outputs": [
        {
          "output_type": "display_data",
          "data": {
            "text/plain": [
              "<Figure size 500x500 with 1 Axes>"
            ],
            "image/png": "[encoded data removed]"
          },
          "metadata": {}
        }
      ]
    },
    {
      "cell_type": "code",
      "source": [
        "SeeN2 = df[df['NO_OF_TRADES'] > 90]\n",
        "sns.displot(x = 'NO_OF_TRADES' , data=SeeN2)\n",
        "plt.title(\"Number Of Trades Greater Than 90\")\n",
        "plt.show()"
      ],
      "metadata": {
        "colab": {
          "base_uri": "https://localhost:8080/",
          "height": 0
        },
        "id": "MvrdGwdw6xsM",
        "outputId": "b54ac423-324c-47e9-c16f-6ea8a9f132a3"
      },
      "execution_count": 78,
      "outputs": [
        {
          "output_type": "display_data",
          "data": {
            "text/plain": [
              "<Figure size 500x500 with 1 Axes>"
            ],
            "image/png": "[encoded data removed]"
          },
          "metadata": {}
        }
      ]
    },
    {
      "cell_type": "markdown",
      "source": [
        "### 5.5. Extra Information"
      ],
      "metadata": {
        "id": "9-Dam8g1My-M"
      }
    },
    {
      "cell_type": "code",
      "source": [
        "HighPrice = df.groupby(['SYMBOL1'])['NO_OF_TRADES' , 'VOLUME'].sum()\n",
        "adf = pd.DataFrame(HighPrice)\n",
        "adf\n",
        "# ALFA is the lowest gain with (1) trade only and a volume equals to (37.4$)\n",
        "# JOPH is the highest gain with (68677) trades and a volume equals to (319533626.62$ millions)\n",
        "# JOPT is the second highest gain with (88038) trades and a volume equals to (291096910.1$ millions)\n",
        "# The difference between Rank 1 and Rank 2 in gains is equal to (28436716.52$ millions)"
      ],
      "metadata": {
        "colab": {
          "base_uri": "https://localhost:8080/",
          "height": 0
        },
        "id": "fH9mvrrUM26q",
        "outputId": "0bb30fa3-0584-4706-e6ac-e1ae51c49651"
      },
      "execution_count": 79,
      "outputs": [
        {
          "output_type": "stream",
          "name": "stderr",
          "text": [
            "<ipython-input-79-068bf896ea3b>:1: FutureWarning: Indexing with multiple keys (implicitly converted to a tuple of keys) will be deprecated, use a list instead.\n",
            "  HighPrice = df.groupby(['SYMBOL1'])['NO_OF_TRADES' , 'VOLUME'].sum()\n"
          ]
        },
        {
          "output_type": "execute_result",
          "data": {
            "text/plain": [
              "         NO_OF_TRADES      VOLUME\n",
              "SYMBOL1                          \n",
              "0                  58    38524.82\n",
              "1                 304   192020.20\n",
              "2                1351   885807.90\n",
              "3                1491   533179.55\n",
              "4                  64    38867.09\n",
              "...               ...         ...\n",
              "208              1394   465314.75\n",
              "209              2191  2357606.05\n",
              "210                 8     1921.20\n",
              "211               548   715195.58\n",
              "212               425   779659.60\n",
              "\n",
              "[213 rows x 2 columns]"
            ],
            "text/html": [
              "\n",
              "  <div id=\"df-cb70143f-5af5-486a-adf6-482b957ab545\">\n",
              "    <div class=\"colab-df-container\">\n",
              "      <div>\n",
              "<style scoped>\n",
              "    .dataframe tbody tr th:only-of-type {\n",
              "        vertical-align: middle;\n",
              "    }\n",
              "\n",
              "    .dataframe tbody tr th {\n",
              "        vertical-align: top;\n",
              "    }\n",
              "\n",
              "    .dataframe thead th {\n",
              "        text-align: right;\n",
              "    }\n",
              "</style>\n",
              "<table border=\"1\" class=\"dataframe\">\n",
              "  <thead>\n",
              "    <tr style=\"text-align: right;\">\n",
              "      <th></th>\n",
              "      <th>NO_OF_TRADES</th>\n",
              "      <th>VOLUME</th>\n",
              "    </tr>\n",
              "    <tr>\n",
              "      <th>SYMBOL1</th>\n",
              "      <th></th>\n",
              "      <th></th>\n",
              "    </tr>\n",
              "  </thead>\n",
              "  <tbody>\n",
              "    <tr>\n",
              "      <th>0</th>\n",
              "      <td>58</td>\n",
              "      <td>38524.82</td>\n",
              "    </tr>\n",
              "    <tr>\n",
              "      <th>1</th>\n",
              "      <td>304</td>\n",
              "      <td>192020.20</td>\n",
              "    </tr>\n",
              "    <tr>\n",
              "      <th>2</th>\n",
              "      <td>1351</td>\n",
              "      <td>885807.90</td>\n",
              "    </tr>\n",
              "    <tr>\n",
              "      <th>3</th>\n",
              "      <td>1491</td>\n",
              "      <td>533179.55</td>\n",
              "    </tr>\n",
              "    <tr>\n",
              "      <th>4</th>\n",
              "      <td>64</td>\n",
              "      <td>38867.09</td>\n",
              "    </tr>\n",
              "    <tr>\n",
              "      <th>...</th>\n",
              "      <td>...</td>\n",
              "      <td>...</td>\n",
              "    </tr>\n",
              "    <tr>\n",
              "      <th>208</th>\n",
              "      <td>1394</td>\n",
              "      <td>465314.75</td>\n",
              "    </tr>\n",
              "    <tr>\n",
              "      <th>209</th>\n",
              "      <td>2191</td>\n",
              "      <td>2357606.05</td>\n",
              "    </tr>\n",
              "    <tr>\n",
              "      <th>210</th>\n",
              "      <td>8</td>\n",
              "      <td>1921.20</td>\n",
              "    </tr>\n",
              "    <tr>\n",
              "      <th>211</th>\n",
              "      <td>548</td>\n",
              "      <td>715195.58</td>\n",
              "    </tr>\n",
              "    <tr>\n",
              "      <th>212</th>\n",
              "      <td>425</td>\n",
              "      <td>779659.60</td>\n",
              "    </tr>\n",
              "  </tbody>\n",
              "</table>\n",
              "<p>213 rows × 2 columns</p>\n",
              "</div>\n",
              "      <button class=\"colab-df-convert\" onclick=\"convertToInteractive('df-cb70143f-5af5-486a-adf6-482b957ab545')\"\n",
              "              title=\"Convert this dataframe to an interactive table.\"\n",
              "              style=\"display:none;\">\n",
              "        \n",
              "  <svg xmlns=\"http://www.w3.org/2000/svg\" height=\"24px\"viewBox=\"0 0 24 24\"\n",
              "       width=\"24px\">\n",
              "    <path d=\"M0 0h24v24H0V0z\" fill=\"none\"/>\n",
              "    <path d=\"M18.56 5.44l.94 2.06.94-2.06 2.06-.94-2.06-.94-.94-2.06-.94 2.06-2.06.94zm-11 1L8.5 8.5l.94-2.06 2.06-.94-2.06-.94L8.5 2.5l-.94 2.06-2.06.94zm10 10l.94 2.06.94-2.06 2.06-.94-2.06-.94-.94-2.06-.94 2.06-2.06.94z\"/><path d=\"M17.41 7.96l-1.37-1.37c-.4-.4-.92-.59-1.43-.59-.52 0-1.04.2-1.43.59L10.3 9.45l-7.72 7.72c-.78.78-.78 2.05 0 2.83L4 21.41c.39.39.9.59 1.41.59.51 0 1.02-.2 1.41-.59l7.78-7.78 2.81-2.81c.8-.78.8-2.07 0-2.86zM5.41 20L4 18.59l7.72-7.72 1.47 1.35L5.41 20z\"/>\n",
              "  </svg>\n",
              "      </button>\n",
              "      \n",
              "  <style>\n",
              "    .colab-df-container {\n",
              "      display:flex;\n",
              "      flex-wrap:wrap;\n",
              "      gap: 12px;\n",
              "    }\n",
              "\n",
              "    .colab-df-convert {\n",
              "      background-color: #E8F0FE;\n",
              "      border: none;\n",
              "      border-radius: 50%;\n",
              "      cursor: pointer;\n",
              "      display: none;\n",
              "      fill: #1967D2;\n",
              "      height: 32px;\n",
              "      padding: 0 0 0 0;\n",
              "      width: 32px;\n",
              "    }\n",
              "\n",
              "    .colab-df-convert:hover {\n",
              "      background-color: #E2EBFA;\n",
              "      box-shadow: 0px 1px 2px rgba(60, 64, 67, 0.3), 0px 1px 3px 1px rgba(60, 64, 67, 0.15);\n",
              "      fill: #174EA6;\n",
              "    }\n",
              "\n",
              "    [theme=dark] .colab-df-convert {\n",
              "      background-color: #3B4455;\n",
              "      fill: #D2E3FC;\n",
              "    }\n",
              "\n",
              "    [theme=dark] .colab-df-convert:hover {\n",
              "      background-color: #434B5C;\n",
              "      box-shadow: 0px 1px 3px 1px rgba(0, 0, 0, 0.15);\n",
              "      filter: drop-shadow(0px 1px 2px rgba(0, 0, 0, 0.3));\n",
              "      fill: #FFFFFF;\n",
              "    }\n",
              "  </style>\n",
              "\n",
              "      <script>\n",
              "        const buttonEl =\n",
              "          document.querySelector('#df-cb70143f-5af5-486a-adf6-482b957ab545 button.colab-df-convert');\n",
              "        buttonEl.style.display =\n",
              "          google.colab.kernel.accessAllowed ? 'block' : 'none';\n",
              "\n",
              "        async function convertToInteractive(key) {\n",
              "          const element = document.querySelector('#df-cb70143f-5af5-486a-adf6-482b957ab545');\n",
              "          const dataTable =\n",
              "            await google.colab.kernel.invokeFunction('convertToInteractive',\n",
              "                                                     [key], {});\n",
              "          if (!dataTable) return;\n",
              "\n",
              "          const docLinkHtml = 'Like what you see? Visit the ' +\n",
              "            '<a target=\"_blank\" href=https://colab.research.google.com/notebooks/data_table.ipynb>data table notebook</a>'\n",
              "            + ' to learn more about interactive tables.';\n",
              "          element.innerHTML = '';\n",
              "          dataTable['output_type'] = 'display_data';\n",
              "          await google.colab.output.renderOutput(dataTable, element);\n",
              "          const docLink = document.createElement('div');\n",
              "          docLink.innerHTML = docLinkHtml;\n",
              "          element.appendChild(docLink);\n",
              "        }\n",
              "      </script>\n",
              "    </div>\n",
              "  </div>\n",
              "  "
            ]
          },
          "metadata": {},
          "execution_count": 79
        }
      ]
    },
    {
      "cell_type": "markdown",
      "source": [
        "# 6. Contingency Table"
      ],
      "metadata": {
        "id": "dLPENC88Dzu2"
      }
    },
    {
      "cell_type": "code",
      "source": [
        "ccc = pd.pivot_table(df, values='NO_OF_TRADES', index='Month', columns='MARKET', aggfunc=sum)\n",
        "ccc\n"
      ],
      "metadata": {
        "colab": {
          "base_uri": "https://localhost:8080/",
          "height": 457
        },
        "id": "RpMN3zuoyPNB",
        "outputId": "3f5181b9-920d-4312-9251-cab794167541"
      },
      "execution_count": 80,
      "outputs": [
        {
          "output_type": "execute_result",
          "data": {
            "text/plain": [
              "MARKET     0      1      2\n",
              "Month                     \n",
              "1       4828  22114  37893\n",
              "2       3332  19575  31967\n",
              "3       4284  29726  30270\n",
              "4       2130  41953  22354\n",
              "5       3595  41475  24136\n",
              "6       4094  37568  37782\n",
              "7       3731  49244  29064\n",
              "8       4159  42979  33908\n",
              "9       3661  28052  23912\n",
              "10      3789  31008  27103\n",
              "11      3896  26140  26300\n",
              "12      4027  20294  25717"
            ],
            "text/html": [
              "\n",
              "  <div id=\"df-ea03959d-1314-4c2c-b049-a4d1292dad08\">\n",
              "    <div class=\"colab-df-container\">\n",
              "      <div>\n",
              "<style scoped>\n",
              "    .dataframe tbody tr th:only-of-type {\n",
              "        vertical-align: middle;\n",
              "    }\n",
              "\n",
              "    .dataframe tbody tr th {\n",
              "        vertical-align: top;\n",
              "    }\n",
              "\n",
              "    .dataframe thead th {\n",
              "        text-align: right;\n",
              "    }\n",
              "</style>\n",
              "<table border=\"1\" class=\"dataframe\">\n",
              "  <thead>\n",
              "    <tr style=\"text-align: right;\">\n",
              "      <th>MARKET</th>\n",
              "      <th>0</th>\n",
              "      <th>1</th>\n",
              "      <th>2</th>\n",
              "    </tr>\n",
              "    <tr>\n",
              "      <th>Month</th>\n",
              "      <th></th>\n",
              "      <th></th>\n",
              "      <th></th>\n",
              "    </tr>\n",
              "  </thead>\n",
              "  <tbody>\n",
              "    <tr>\n",
              "      <th>1</th>\n",
              "      <td>4828</td>\n",
              "      <td>22114</td>\n",
              "      <td>37893</td>\n",
              "    </tr>\n",
              "    <tr>\n",
              "      <th>2</th>\n",
              "      <td>3332</td>\n",
              "      <td>19575</td>\n",
              "      <td>31967</td>\n",
              "    </tr>\n",
              "    <tr>\n",
              "      <th>3</th>\n",
              "      <td>4284</td>\n",
              "      <td>29726</td>\n",
              "      <td>30270</td>\n",
              "    </tr>\n",
              "    <tr>\n",
              "      <th>4</th>\n",
              "      <td>2130</td>\n",
              "      <td>41953</td>\n",
              "      <td>22354</td>\n",
              "    </tr>\n",
              "    <tr>\n",
              "      <th>5</th>\n",
              "      <td>3595</td>\n",
              "      <td>41475</td>\n",
              "      <td>24136</td>\n",
              "    </tr>\n",
              "    <tr>\n",
              "      <th>6</th>\n",
              "      <td>4094</td>\n",
              "      <td>37568</td>\n",
              "      <td>37782</td>\n",
              "    </tr>\n",
              "    <tr>\n",
              "      <th>7</th>\n",
              "      <td>3731</td>\n",
              "      <td>49244</td>\n",
              "      <td>29064</td>\n",
              "    </tr>\n",
              "    <tr>\n",
              "      <th>8</th>\n",
              "      <td>4159</td>\n",
              "      <td>42979</td>\n",
              "      <td>33908</td>\n",
              "    </tr>\n",
              "    <tr>\n",
              "      <th>9</th>\n",
              "      <td>3661</td>\n",
              "      <td>28052</td>\n",
              "      <td>23912</td>\n",
              "    </tr>\n",
              "    <tr>\n",
              "      <th>10</th>\n",
              "      <td>3789</td>\n",
              "      <td>31008</td>\n",
              "      <td>27103</td>\n",
              "    </tr>\n",
              "    <tr>\n",
              "      <th>11</th>\n",
              "      <td>3896</td>\n",
              "      <td>26140</td>\n",
              "      <td>26300</td>\n",
              "    </tr>\n",
              "    <tr>\n",
              "      <th>12</th>\n",
              "      <td>4027</td>\n",
              "      <td>20294</td>\n",
              "      <td>25717</td>\n",
              "    </tr>\n",
              "  </tbody>\n",
              "</table>\n",
              "</div>\n",
              "      <button class=\"colab-df-convert\" onclick=\"convertToInteractive('df-ea03959d-1314-4c2c-b049-a4d1292dad08')\"\n",
              "              title=\"Convert this dataframe to an interactive table.\"\n",
              "              style=\"display:none;\">\n",
              "        \n",
              "  <svg xmlns=\"http://www.w3.org/2000/svg\" height=\"24px\"viewBox=\"0 0 24 24\"\n",
              "       width=\"24px\">\n",
              "    <path d=\"M0 0h24v24H0V0z\" fill=\"none\"/>\n",
              "    <path d=\"M18.56 5.44l.94 2.06.94-2.06 2.06-.94-2.06-.94-.94-2.06-.94 2.06-2.06.94zm-11 1L8.5 8.5l.94-2.06 2.06-.94-2.06-.94L8.5 2.5l-.94 2.06-2.06.94zm10 10l.94 2.06.94-2.06 2.06-.94-2.06-.94-.94-2.06-.94 2.06-2.06.94z\"/><path d=\"M17.41 7.96l-1.37-1.37c-.4-.4-.92-.59-1.43-.59-.52 0-1.04.2-1.43.59L10.3 9.45l-7.72 7.72c-.78.78-.78 2.05 0 2.83L4 21.41c.39.39.9.59 1.41.59.51 0 1.02-.2 1.41-.59l7.78-7.78 2.81-2.81c.8-.78.8-2.07 0-2.86zM5.41 20L4 18.59l7.72-7.72 1.47 1.35L5.41 20z\"/>\n",
              "  </svg>\n",
              "      </button>\n",
              "      \n",
              "  <style>\n",
              "    .colab-df-container {\n",
              "      display:flex;\n",
              "      flex-wrap:wrap;\n",
              "      gap: 12px;\n",
              "    }\n",
              "\n",
              "    .colab-df-convert {\n",
              "      background-color: #E8F0FE;\n",
              "      border: none;\n",
              "      border-radius: 50%;\n",
              "      cursor: pointer;\n",
              "      display: none;\n",
              "      fill: #1967D2;\n",
              "      height: 32px;\n",
              "      padding: 0 0 0 0;\n",
              "      width: 32px;\n",
              "    }\n",
              "\n",
              "    .colab-df-convert:hover {\n",
              "      background-color: #E2EBFA;\n",
              "      box-shadow: 0px 1px 2px rgba(60, 64, 67, 0.3), 0px 1px 3px 1px rgba(60, 64, 67, 0.15);\n",
              "      fill: #174EA6;\n",
              "    }\n",
              "\n",
              "    [theme=dark] .colab-df-convert {\n",
              "      background-color: #3B4455;\n",
              "      fill: #D2E3FC;\n",
              "    }\n",
              "\n",
              "    [theme=dark] .colab-df-convert:hover {\n",
              "      background-color: #434B5C;\n",
              "      box-shadow: 0px 1px 3px 1px rgba(0, 0, 0, 0.15);\n",
              "      filter: drop-shadow(0px 1px 2px rgba(0, 0, 0, 0.3));\n",
              "      fill: #FFFFFF;\n",
              "    }\n",
              "  </style>\n",
              "\n",
              "      <script>\n",
              "        const buttonEl =\n",
              "          document.querySelector('#df-ea03959d-1314-4c2c-b049-a4d1292dad08 button.colab-df-convert');\n",
              "        buttonEl.style.display =\n",
              "          google.colab.kernel.accessAllowed ? 'block' : 'none';\n",
              "\n",
              "        async function convertToInteractive(key) {\n",
              "          const element = document.querySelector('#df-ea03959d-1314-4c2c-b049-a4d1292dad08');\n",
              "          const dataTable =\n",
              "            await google.colab.kernel.invokeFunction('convertToInteractive',\n",
              "                                                     [key], {});\n",
              "          if (!dataTable) return;\n",
              "\n",
              "          const docLinkHtml = 'Like what you see? Visit the ' +\n",
              "            '<a target=\"_blank\" href=https://colab.research.google.com/notebooks/data_table.ipynb>data table notebook</a>'\n",
              "            + ' to learn more about interactive tables.';\n",
              "          element.innerHTML = '';\n",
              "          dataTable['output_type'] = 'display_data';\n",
              "          await google.colab.output.renderOutput(dataTable, element);\n",
              "          const docLink = document.createElement('div');\n",
              "          docLink.innerHTML = docLinkHtml;\n",
              "          element.appendChild(docLink);\n",
              "        }\n",
              "      </script>\n",
              "    </div>\n",
              "  </div>\n",
              "  "
            ]
          },
          "metadata": {},
          "execution_count": 80
        }
      ]
    },
    {
      "cell_type": "code",
      "source": [
        "cch = pd.pivot_table(df, values='HIGH', index='Month', columns='MARKET', aggfunc=sum)\n",
        "cch"
      ],
      "metadata": {
        "colab": {
          "base_uri": "https://localhost:8080/",
          "height": 457
        },
        "id": "MCSheMW_zJZb",
        "outputId": "420e0f59-de0c-4269-edec-79ef8f89396a"
      },
      "execution_count": 105,
      "outputs": [
        {
          "output_type": "execute_result",
          "data": {
            "text/plain": [
              "MARKET       0        1        2\n",
              "Month                           \n",
              "1       196.60  2333.37  1293.77\n",
              "2       165.44  2320.14  1096.97\n",
              "3       212.52  2620.45  1097.65\n",
              "4       121.51  2747.06   789.76\n",
              "5       153.43  2690.87   725.87\n",
              "6       223.86  3283.03  1042.03\n",
              "7       130.01  2894.86   926.75\n",
              "8       181.74  3565.67  1034.98\n",
              "9       143.96  2971.20   978.09\n",
              "10      148.68  3096.67   995.99\n",
              "11      121.37  3079.10   855.76\n",
              "12      142.64  2826.26   799.34"
            ],
            "text/html": [
              "\n",
              "  <div id=\"df-c4ff130a-1429-4a37-917a-8a027b1bfd4e\">\n",
              "    <div class=\"colab-df-container\">\n",
              "      <div>\n",
              "<style scoped>\n",
              "    .dataframe tbody tr th:only-of-type {\n",
              "        vertical-align: middle;\n",
              "    }\n",
              "\n",
              "    .dataframe tbody tr th {\n",
              "        vertical-align: top;\n",
              "    }\n",
              "\n",
              "    .dataframe thead th {\n",
              "        text-align: right;\n",
              "    }\n",
              "</style>\n",
              "<table border=\"1\" class=\"dataframe\">\n",
              "  <thead>\n",
              "    <tr style=\"text-align: right;\">\n",
              "      <th>MARKET</th>\n",
              "      <th>0</th>\n",
              "      <th>1</th>\n",
              "      <th>2</th>\n",
              "    </tr>\n",
              "    <tr>\n",
              "      <th>Month</th>\n",
              "      <th></th>\n",
              "      <th></th>\n",
              "      <th></th>\n",
              "    </tr>\n",
              "  </thead>\n",
              "  <tbody>\n",
              "    <tr>\n",
              "      <th>1</th>\n",
              "      <td>196.60</td>\n",
              "      <td>2333.37</td>\n",
              "      <td>1293.77</td>\n",
              "    </tr>\n",
              "    <tr>\n",
              "      <th>2</th>\n",
              "      <td>165.44</td>\n",
              "      <td>2320.14</td>\n",
              "      <td>1096.97</td>\n",
              "    </tr>\n",
              "    <tr>\n",
              "      <th>3</th>\n",
              "      <td>212.52</td>\n",
              "      <td>2620.45</td>\n",
              "      <td>1097.65</td>\n",
              "    </tr>\n",
              "    <tr>\n",
              "      <th>4</th>\n",
              "      <td>121.51</td>\n",
              "      <td>2747.06</td>\n",
              "      <td>789.76</td>\n",
              "    </tr>\n",
              "    <tr>\n",
              "      <th>5</th>\n",
              "      <td>153.43</td>\n",
              "      <td>2690.87</td>\n",
              "      <td>725.87</td>\n",
              "    </tr>\n",
              "    <tr>\n",
              "      <th>6</th>\n",
              "      <td>223.86</td>\n",
              "      <td>3283.03</td>\n",
              "      <td>1042.03</td>\n",
              "    </tr>\n",
              "    <tr>\n",
              "      <th>7</th>\n",
              "      <td>130.01</td>\n",
              "      <td>2894.86</td>\n",
              "      <td>926.75</td>\n",
              "    </tr>\n",
              "    <tr>\n",
              "      <th>8</th>\n",
              "      <td>181.74</td>\n",
              "      <td>3565.67</td>\n",
              "      <td>1034.98</td>\n",
              "    </tr>\n",
              "    <tr>\n",
              "      <th>9</th>\n",
              "      <td>143.96</td>\n",
              "      <td>2971.20</td>\n",
              "      <td>978.09</td>\n",
              "    </tr>\n",
              "    <tr>\n",
              "      <th>10</th>\n",
              "      <td>148.68</td>\n",
              "      <td>3096.67</td>\n",
              "      <td>995.99</td>\n",
              "    </tr>\n",
              "    <tr>\n",
              "      <th>11</th>\n",
              "      <td>121.37</td>\n",
              "      <td>3079.10</td>\n",
              "      <td>855.76</td>\n",
              "    </tr>\n",
              "    <tr>\n",
              "      <th>12</th>\n",
              "      <td>142.64</td>\n",
              "      <td>2826.26</td>\n",
              "      <td>799.34</td>\n",
              "    </tr>\n",
              "  </tbody>\n",
              "</table>\n",
              "</div>\n",
              "      <button class=\"colab-df-convert\" onclick=\"convertToInteractive('df-c4ff130a-1429-4a37-917a-8a027b1bfd4e')\"\n",
              "              title=\"Convert this dataframe to an interactive table.\"\n",
              "              style=\"display:none;\">\n",
              "        \n",
              "  <svg xmlns=\"http://www.w3.org/2000/svg\" height=\"24px\"viewBox=\"0 0 24 24\"\n",
              "       width=\"24px\">\n",
              "    <path d=\"M0 0h24v24H0V0z\" fill=\"none\"/>\n",
              "    <path d=\"M18.56 5.44l.94 2.06.94-2.06 2.06-.94-2.06-.94-.94-2.06-.94 2.06-2.06.94zm-11 1L8.5 8.5l.94-2.06 2.06-.94-2.06-.94L8.5 2.5l-.94 2.06-2.06.94zm10 10l.94 2.06.94-2.06 2.06-.94-2.06-.94-.94-2.06-.94 2.06-2.06.94z\"/><path d=\"M17.41 7.96l-1.37-1.37c-.4-.4-.92-.59-1.43-.59-.52 0-1.04.2-1.43.59L10.3 9.45l-7.72 7.72c-.78.78-.78 2.05 0 2.83L4 21.41c.39.39.9.59 1.41.59.51 0 1.02-.2 1.41-.59l7.78-7.78 2.81-2.81c.8-.78.8-2.07 0-2.86zM5.41 20L4 18.59l7.72-7.72 1.47 1.35L5.41 20z\"/>\n",
              "  </svg>\n",
              "      </button>\n",
              "      \n",
              "  <style>\n",
              "    .colab-df-container {\n",
              "      display:flex;\n",
              "      flex-wrap:wrap;\n",
              "      gap: 12px;\n",
              "    }\n",
              "\n",
              "    .colab-df-convert {\n",
              "      background-color: #E8F0FE;\n",
              "      border: none;\n",
              "      border-radius: 50%;\n",
              "      cursor: pointer;\n",
              "      display: none;\n",
              "      fill: #1967D2;\n",
              "      height: 32px;\n",
              "      padding: 0 0 0 0;\n",
              "      width: 32px;\n",
              "    }\n",
              "\n",
              "    .colab-df-convert:hover {\n",
              "      background-color: #E2EBFA;\n",
              "      box-shadow: 0px 1px 2px rgba(60, 64, 67, 0.3), 0px 1px 3px 1px rgba(60, 64, 67, 0.15);\n",
              "      fill: #174EA6;\n",
              "    }\n",
              "\n",
              "    [theme=dark] .colab-df-convert {\n",
              "      background-color: #3B4455;\n",
              "      fill: #D2E3FC;\n",
              "    }\n",
              "\n",
              "    [theme=dark] .colab-df-convert:hover {\n",
              "      background-color: #434B5C;\n",
              "      box-shadow: 0px 1px 3px 1px rgba(0, 0, 0, 0.15);\n",
              "      filter: drop-shadow(0px 1px 2px rgba(0, 0, 0, 0.3));\n",
              "      fill: #FFFFFF;\n",
              "    }\n",
              "  </style>\n",
              "\n",
              "      <script>\n",
              "        const buttonEl =\n",
              "          document.querySelector('#df-c4ff130a-1429-4a37-917a-8a027b1bfd4e button.colab-df-convert');\n",
              "        buttonEl.style.display =\n",
              "          google.colab.kernel.accessAllowed ? 'block' : 'none';\n",
              "\n",
              "        async function convertToInteractive(key) {\n",
              "          const element = document.querySelector('#df-c4ff130a-1429-4a37-917a-8a027b1bfd4e');\n",
              "          const dataTable =\n",
              "            await google.colab.kernel.invokeFunction('convertToInteractive',\n",
              "                                                     [key], {});\n",
              "          if (!dataTable) return;\n",
              "\n",
              "          const docLinkHtml = 'Like what you see? Visit the ' +\n",
              "            '<a target=\"_blank\" href=https://colab.research.google.com/notebooks/data_table.ipynb>data table notebook</a>'\n",
              "            + ' to learn more about interactive tables.';\n",
              "          element.innerHTML = '';\n",
              "          dataTable['output_type'] = 'display_data';\n",
              "          await google.colab.output.renderOutput(dataTable, element);\n",
              "          const docLink = document.createElement('div');\n",
              "          docLink.innerHTML = docLinkHtml;\n",
              "          element.appendChild(docLink);\n",
              "        }\n",
              "      </script>\n",
              "    </div>\n",
              "  </div>\n",
              "  "
            ]
          },
          "metadata": {},
          "execution_count": 105
        }
      ]
    },
    {
      "cell_type": "markdown",
      "source": [
        "# 7. Splitting & Models"
      ],
      "metadata": {
        "id": "PrhSh_DL5cBP"
      }
    },
    {
      "cell_type": "markdown",
      "source": [
        "### 7.1. Spliting"
      ],
      "metadata": {
        "id": "Eg8pDEdAAxlf"
      }
    },
    {
      "cell_type": "code",
      "source": [
        "x = df.drop(['HIGH', 'LOW' , 'TRADE_DATE' , 'Month'], axis=1)\n",
        "y = df['HIGH']\n",
        "\n",
        "x2 = df.drop(['HIGH', 'LOW' , 'TRADE_DATE' , 'Month'], axis=1)\n",
        "y2 = df['LOW']\n",
        "\n",
        "from sklearn.model_selection import train_test_split"
      ],
      "metadata": {
        "id": "2CUkTM6j5aq_"
      },
      "execution_count": 82,
      "outputs": []
    },
    {
      "cell_type": "markdown",
      "source": [
        "### 7.2. Models Objects"
      ],
      "metadata": {
        "id": "rWavyQBUNFoH"
      }
    },
    {
      "cell_type": "code",
      "source": [
        "from sklearn.preprocessing import StandardScaler\n",
        "from sklearn.tree import DecisionTreeRegressor\n",
        "from sklearn.linear_model import LinearRegression\n",
        "from sklearn.neighbors import KNeighborsRegressor\n",
        "\n",
        "SC = StandardScaler()\n",
        "DTR = DecisionTreeRegressor(random_state=0)\n",
        "LR = LinearRegression()\n",
        "KNNR = KNeighborsRegressor(n_neighbors=5)"
      ],
      "metadata": {
        "id": "Qg-c8FDMFWHy"
      },
      "execution_count": 83,
      "outputs": []
    },
    {
      "cell_type": "markdown",
      "source": [
        "# 8. Feature Selection Methods"
      ],
      "metadata": {
        "id": "ZmZ365xquMfG"
      }
    },
    {
      "cell_type": "markdown",
      "source": [
        "### 8.1. Sequential Feature Selection Method (Wrapper_High)"
      ],
      "metadata": {
        "id": "3QDJD3rEAbkI"
      }
    },
    {
      "cell_type": "code",
      "source": [
        "from sklearn.feature_selection import SequentialFeatureSelector\n",
        "SFS = SequentialFeatureSelector(KNNR, n_features_to_select=5, direction='forward') \n",
        "\n",
        "SFS.fit(x, y)\n",
        "x_SFS = SFS.transform(x)\n",
        "\n",
        "SMAEH1  = []\n",
        "SMSEH1  = []\n",
        "SRMSEH1 = []\n",
        "SR2H1   = []\n",
        "\n",
        "for i in range(30):\n",
        "    x_train, x_test, y_train, y_test = train_test_split(x_SFS, y, test_size=0.2, random_state=i)\n",
        "    x_train = SC.fit_transform(x_train)\n",
        "    x_test = SC.transform(x_test)\n",
        "    \n",
        "    KNNR.fit(x_train, y_train)\n",
        "    y_pred = KNNR.predict(x_test)\n",
        "\n",
        "    MAE = mean_absolute_error(y_test , y_pred)\n",
        "    SMAEH1.append(MAE)\n",
        "\n",
        "    MSE = mean_squared_error(y_test , y_pred)\n",
        "    SMSEH1.append(MSE)\n",
        "\n",
        "    RMSE = mean_squared_error(y_test , y_pred , squared=False)\n",
        "    SRMSEH1.append(RMSE)\n",
        "\n",
        "    R2 = r2_score(y_test , y_pred)\n",
        "    SR2H1.append(R2)\n",
        "\n",
        "SM1H = sum(SMAEH1)/len(SMAEH1)\n",
        "SMS1H = sum(SMSEH1)/len(SMSEH1)\n",
        "SRM1H = sum(SRMSEH1)/len(SRMSEH1)\n",
        "SRR1H = sum(SR2H1)/len(SR2H1)\n",
        "\n",
        "print(\"Features Selected: \" , x.columns[SFS.get_support()])\n",
        "print(\"MAE:  \" , round(SM1H  , 3))\n",
        "print(\"MSE:  \" , round(SMS1H , 3))\n",
        "print(\"RMSE: \" , round(SRM1H , 3))\n",
        "print(\"R2:   \" , round(SRR1H , 3))"
      ],
      "metadata": {
        "id": "i45peyJM-YFN",
        "colab": {
          "base_uri": "https://localhost:8080/"
        },
        "outputId": "a0355e4d-42c5-4249-f678-4947871ff228"
      },
      "execution_count": 116,
      "outputs": [
        {
          "output_type": "stream",
          "name": "stdout",
          "text": [
            "Features Selected:  Index(['SEC_CODE', 'SYMBOL1', 'MARKET', 'BEST_ASK_PRICE', 'BEST_BID_PRICE'], dtype='object')\n",
            "MAE:   0.332\n",
            "MSE:   2.629\n",
            "RMSE:  1.616\n",
            "R2:    0.879\n"
          ]
        }
      ]
    },
    {
      "cell_type": "code",
      "source": [
        "SFS2 = SequentialFeatureSelector(DTR, n_features_to_select=5, direction='forward') \n",
        "\n",
        "SFS2.fit(x, y)\n",
        "x_SFS2 = SFS2.transform(x)\n",
        "\n",
        "SMAEH2 = []\n",
        "SMSEH2 = []\n",
        "SRMSEH2 = []\n",
        "SR2H2 = []\n",
        "for i in range(30):\n",
        "    x_train, x_test, y_train, y_test = train_test_split(x_SFS2, y, test_size=0.2, random_state=i)\n",
        "    x_train = SC.fit_transform(x_train)\n",
        "    x_test = SC.transform(x_test)\n",
        "    \n",
        "    DTR.fit(x_train, y_train)\n",
        "    y_pred = DTR.predict(x_test)\n",
        "\n",
        "    MAE = mean_absolute_error(y_test , y_pred)\n",
        "    SMAEH2.append(MAE)\n",
        "\n",
        "    MSE = mean_squared_error(y_test , y_pred)\n",
        "    SMSEH2.append(MSE)\n",
        "\n",
        "    RMSE = mean_squared_error(y_test , y_pred , squared=False)\n",
        "    SRMSEH2.append(RMSE)\n",
        "\n",
        "    R2 = r2_score(y_test , y_pred)\n",
        "    SR2H2.append(R2)\n",
        "\n",
        "SM2H = sum(SMAEH2)/len(SMAEH2)\n",
        "SMS2H = sum(SMSEH2)/len(SMSEH2)\n",
        "SRM2H = sum(SRMSEH2)/len(SRMSEH2)\n",
        "SRR2H = sum(SR2H2)/len(SR2H2)\n",
        "\n",
        "print(\"Features Selected: \" , x.columns[SFS2.get_support()])\n",
        "print(\"MAE:  \" , round(SM2H , 3))\n",
        "print(\"MSE:  \" , round(SMS2H , 3))\n",
        "print(\"RMSE: \" , round(SRM2H , 3))\n",
        "print(\"R2:   \" , round(SRR2H , 3))"
      ],
      "metadata": {
        "colab": {
          "base_uri": "https://localhost:8080/"
        },
        "id": "GHYEwfCKeKY_",
        "outputId": "38826f5c-6c68-4a6a-b22b-2bde917aa4dc"
      },
      "execution_count": 117,
      "outputs": [
        {
          "output_type": "stream",
          "name": "stdout",
          "text": [
            "Features Selected:  Index(['SEC_CODE', 'SYMBOL1', 'MARKET', 'NO_OF_TRADES', 'BEST_ASK_PRICE'], dtype='object')\n",
            "MAE:   0.217\n",
            "MSE:   1.218\n",
            "RMSE:  1.098\n",
            "R2:    0.944\n"
          ]
        }
      ]
    },
    {
      "cell_type": "code",
      "source": [
        "SFS3 = SequentialFeatureSelector(LR, n_features_to_select=5, direction='forward') \n",
        "\n",
        "SFS3.fit(x, y)\n",
        "x_SFS3 = SFS3.transform(x)\n",
        "\n",
        "SMAEH3  = []\n",
        "SMSEH3  = []\n",
        "SRMSEH3 = []\n",
        "SR2H3   = []\n",
        "\n",
        "for i in range(30):\n",
        "    x_train, x_test, y_train, y_test = train_test_split(x_SFS3, y, test_size=0.2, random_state=i)\n",
        "    x_train = SC.fit_transform(x_train)\n",
        "    x_test = SC.transform(x_test)\n",
        "    \n",
        "    LR.fit(x_train, y_train)\n",
        "    y_pred = LR.predict(x_test)\n",
        "\n",
        "    MAE = mean_absolute_error(y_test , y_pred)\n",
        "    SMAEH3.append(MAE)\n",
        "\n",
        "    MSE = mean_squared_error(y_test , y_pred)\n",
        "    SMSEH3.append(MSE)\n",
        "\n",
        "    RMSE = mean_squared_error(y_test , y_pred , squared=False)\n",
        "    SRMSEH3.append(RMSE)\n",
        "\n",
        "    R2 = r2_score(y_test , y_pred)\n",
        "    SR2H3.append(R2)\n",
        "\n",
        "SM3H = sum(SMAEH3)/len(SMAEH3)\n",
        "SMS3H = sum(SMSEH3)/len(SMSEH3)\n",
        "SRM3H = sum(SRMSEH3)/len(SRMSEH3)\n",
        "SRR3H = sum(SR2H3)/len(SR2H3)\n",
        "\n",
        "print(\"Features Selected: \" , x.columns[SFS3.get_support()])\n",
        "print(\"MAE:  \" , round(SM3H , 3))\n",
        "print(\"MSE:  \" , round(SMS3H , 3))\n",
        "print(\"RMSE: \" , round(SRM3H , 3))\n",
        "print(\"R2:   \" , round(SRR3H , 3))"
      ],
      "metadata": {
        "colab": {
          "base_uri": "https://localhost:8080/"
        },
        "id": "w5PluHLXeS6b",
        "outputId": "d173d545-345d-4636-d1c2-af4c9a2393c1"
      },
      "execution_count": 118,
      "outputs": [
        {
          "output_type": "stream",
          "name": "stdout",
          "text": [
            "Features Selected:  Index(['SEC_CODE', 'SYMBOL1', 'MARKET', 'VOLUME', 'TRADE_QTY'], dtype='object')\n",
            "MAE:   1.629\n",
            "MSE:   17.838\n",
            "RMSE:  4.221\n",
            "R2:    0.178\n"
          ]
        }
      ]
    },
    {
      "cell_type": "markdown",
      "source": [
        "### 8.2. SelectK Best (Filter_High)"
      ],
      "metadata": {
        "id": "D7p2JJDca8hj"
      }
    },
    {
      "cell_type": "code",
      "source": [
        "from sklearn.feature_selection import SelectKBest, f_regression\n",
        "SKB = SelectKBest(f_regression, k=6)\n",
        "\n",
        "SKB.fit(x, y)\n",
        "x_SKB = SKB.transform(x)\n",
        "\n",
        "MAEH1  = []\n",
        "MSEH1  = []\n",
        "RMSEH1 = []\n",
        "R2H1   = []\n",
        "\n",
        "for i in range(30):\n",
        "    x_train, x_test, y_train, y_test = train_test_split(x_SKB, y, test_size=0.2, random_state=i)\n",
        "    x_train = SC.fit_transform(x_train)\n",
        "    x_test = SC.transform(x_test)\n",
        "\n",
        "    KNNR.fit(x_train, y_train)\n",
        "    y_pred = KNNR.predict(x_test)\n",
        "\n",
        "    MAE = mean_absolute_error(y_test , y_pred)\n",
        "    MAEH1.append(MAE)\n",
        "\n",
        "    MSE = mean_squared_error(y_test , y_pred)\n",
        "    MSEH1.append(MSE)\n",
        "\n",
        "    RMSE = mean_squared_error(y_test , y_pred , squared=False)\n",
        "    RMSEH1.append(RMSE)\n",
        "\n",
        "    R2 = r2_score(y_test , y_pred)\n",
        "    R2H1.append(R2)\n",
        "\n",
        "M1H = sum(MAEH1)/len(MAEH1)\n",
        "MS1H = sum(MSEH1)/len(MSEH1)\n",
        "RM1H = sum(RMSEH1)/len(RMSEH1)\n",
        "RR1H = sum(R2H1)/len(R2H1)\n",
        "\n",
        "print(\"Features Selected: \" , x.columns[SKB.get_support()])\n",
        "print(\"MAE:  \" , round(M1H , 3))\n",
        "print(\"MSE:  \" , round(MS1H , 3))\n",
        "print(\"RMSE: \" , round(RM1H , 3))\n",
        "print(\"R2:   \" , round(RR1H , 3))"
      ],
      "metadata": {
        "colab": {
          "base_uri": "https://localhost:8080/"
        },
        "id": "f5MTWTAEpvot",
        "outputId": "c6c63222-c984-46e6-eb59-2a10627e3c54"
      },
      "execution_count": 119,
      "outputs": [
        {
          "output_type": "stream",
          "name": "stdout",
          "text": [
            "Features Selected:  Index(['SEC_CODE', 'MARKET', 'VOLUME', 'NO_OF_TRADES', 'BEST_ASK_PRICE',\n",
            "       'BEST_BID_PRICE'],\n",
            "      dtype='object')\n",
            "MAE:   0.908\n",
            "MSE:   9.784\n",
            "RMSE:  3.125\n",
            "R2:    0.549\n"
          ]
        }
      ]
    },
    {
      "cell_type": "code",
      "source": [
        "MAEH2 = []\n",
        "MSEH2 = []\n",
        "RMSEH2 = []\n",
        "R2H2 = []\n",
        "\n",
        "for i in range(30):\n",
        "    x_train, x_test, y_train, y_test = train_test_split(x_SKB, y, test_size=0.2, random_state=i)\n",
        "    x_train = SC.fit_transform(x_train)\n",
        "    x_test = SC.transform(x_test)\n",
        "    \n",
        "    DTR.fit(x_train, y_train)\n",
        "    y_pred = DTR.predict(x_test)\n",
        "\n",
        "    MAE = mean_absolute_error(y_test , y_pred)\n",
        "    MAEH2.append(MAE)\n",
        "\n",
        "    MSE = mean_squared_error(y_test , y_pred)\n",
        "    MSEH2.append(MSE)\n",
        "\n",
        "    RMSE = mean_squared_error(y_test , y_pred , squared=False)\n",
        "    RMSEH2.append(RMSE)\n",
        "\n",
        "    R2 = r2_score(y_test , y_pred)\n",
        "    R2H2.append(R2)\n",
        "\n",
        "M2H = sum(MAEH2)/len(MAEH2)\n",
        "MS2H = sum(MSEH2)/len(MSEH2)\n",
        "RM2H = sum(RMSEH2)/len(RMSEH2)\n",
        "RR2H = sum(R2H2)/len(R2H2)\n",
        "print(\"Features Selected: \" , x.columns[SKB.get_support()])\n",
        "print(\"MAE:  \" , round(M2H , 3))\n",
        "print(\"MSE:  \" , round(MS2H , 3))\n",
        "print(\"RMSE: \" , round(RM2H , 3))\n",
        "print(\"R2:   \" , round(RR2H , 3))"
      ],
      "metadata": {
        "colab": {
          "base_uri": "https://localhost:8080/"
        },
        "id": "5s2B-w_ffG5c",
        "outputId": "6222a584-ceeb-42ed-914c-688ee8ba2a70"
      },
      "execution_count": 120,
      "outputs": [
        {
          "output_type": "stream",
          "name": "stdout",
          "text": [
            "Features Selected:  Index(['SEC_CODE', 'MARKET', 'VOLUME', 'NO_OF_TRADES', 'BEST_ASK_PRICE',\n",
            "       'BEST_BID_PRICE'],\n",
            "      dtype='object')\n",
            "MAE:   0.24\n",
            "MSE:   1.587\n",
            "RMSE:  1.255\n",
            "R2:    0.927\n"
          ]
        }
      ]
    },
    {
      "cell_type": "code",
      "source": [
        "MAEH3 = []\n",
        "MSEH3 = []\n",
        "RMSEH3 = []\n",
        "R2H3 = []\n",
        "\n",
        "for i in range(30):\n",
        "    x_train, x_test, y_train, y_test = train_test_split(x_SKB, y, test_size=0.2, random_state=i)\n",
        "    x_train = SC.fit_transform(x_train)\n",
        "    x_test = SC.transform(x_test)\n",
        "    \n",
        "    LR.fit(x_train, y_train)\n",
        "    y_pred = LR.predict(x_test)\n",
        "\n",
        "    MAE = mean_absolute_error(y_test , y_pred)\n",
        "    MAEH3.append(MAE)\n",
        "\n",
        "    MSE = mean_squared_error(y_test , y_pred)\n",
        "    MSEH3.append(MSE)\n",
        "\n",
        "    RMSE = mean_squared_error(y_test , y_pred , squared=False)\n",
        "    RMSEH3.append(RMSE)\n",
        "\n",
        "    R2 = r2_score(y_test , y_pred)\n",
        "    R2H3.append(R2)\n",
        "\n",
        "M3H = sum(MAEH3)/len(MAEH3)\n",
        "MS3H = sum(MSEH3)/len(MSEH3)\n",
        "RM3H = sum(RMSEH3)/len(RMSEH3)\n",
        "RR3H = sum(R2H3)/len(R2H3)\n",
        "\n",
        "print(\"Features Selected: \" , x.columns[SKB.get_support()])\n",
        "print(\"MAE:  \" , round(M3H , 3))\n",
        "print(\"MSE:  \" , round(MS3H , 3))\n",
        "print(\"RMSE: \" , round(RM3H , 3))\n",
        "print(\"R2:   \" , round(RR3H , 3))"
      ],
      "metadata": {
        "colab": {
          "base_uri": "https://localhost:8080/"
        },
        "id": "EhWcrrM8fR49",
        "outputId": "118092de-83d0-4f70-eea2-d626ba01d816"
      },
      "execution_count": 121,
      "outputs": [
        {
          "output_type": "stream",
          "name": "stdout",
          "text": [
            "Features Selected:  Index(['SEC_CODE', 'MARKET', 'VOLUME', 'NO_OF_TRADES', 'BEST_ASK_PRICE',\n",
            "       'BEST_BID_PRICE'],\n",
            "      dtype='object')\n",
            "MAE:   1.681\n",
            "MSE:   19.101\n",
            "RMSE:  4.368\n",
            "R2:    0.12\n"
          ]
        }
      ]
    },
    {
      "cell_type": "markdown",
      "source": [
        "### 8.3. Sequential Feature Selection Method (Wrapper_Low)"
      ],
      "metadata": {
        "id": "8xkiYEUpx5wL"
      }
    },
    {
      "cell_type": "code",
      "source": [
        "LSFS1 = SequentialFeatureSelector(KNNR, n_features_to_select=5, direction='forward') \n",
        "\n",
        "LSFS1.fit(x2, y2)\n",
        "x_SFS1L = LSFS1.transform(x2)\n",
        "\n",
        "SMAEL1 = []\n",
        "SMSEL1 = []\n",
        "SRMSEL1 = []\n",
        "SR2L1 = []\n",
        "for i in range(30):\n",
        "    x_train, x_test, y_train, y_test = train_test_split(x_SFS1L, y2, test_size=0.2, random_state=i)\n",
        "    x_train = SC.fit_transform(x_train)\n",
        "    x_test = SC.transform(x_test)\n",
        "    \n",
        "    KNNR.fit(x_train, y_train)\n",
        "    y_pred = KNNR.predict(x_test)\n",
        "\n",
        "    MAE = mean_absolute_error(y_test , y_pred)\n",
        "    SMAEL1.append(MAE)\n",
        "\n",
        "    MSE = mean_squared_error(y_test , y_pred)\n",
        "    SMSEL1.append(MSE)\n",
        "\n",
        "    RMSE = mean_squared_error(y_test , y_pred , squared=False)\n",
        "    SRMSEL1.append(RMSE)\n",
        "\n",
        "    R2 = r2_score(y_test , y_pred)\n",
        "    SR2L1.append(R2)\n",
        "\n",
        "SM1L = sum(SMAEL1)/len(SMAEL1)\n",
        "SMS1L = sum(SMSEL1)/len(SMSEL1)\n",
        "SRM1L = sum(SRMSEL1)/len(SRMSEL1)\n",
        "SRR1L = sum(SR2L1)/len(SR2L1)\n",
        "\n",
        "print(\"Features Selected: \" , x.columns[LSFS1.get_support()])\n",
        "print(\"MAE:  \" , round(SM1L , 3))\n",
        "print(\"MSE:  \" , round(SMS1L , 3))\n",
        "print(\"RMSE: \" , round(SRM1L , 3))\n",
        "print(\"R2:   \" , round(SRR1L , 3))"
      ],
      "metadata": {
        "colab": {
          "base_uri": "https://localhost:8080/"
        },
        "id": "CDp_jmbYx_l2",
        "outputId": "cfd5107b-c1da-467f-a31d-f52f6aa8a0b5"
      },
      "execution_count": 122,
      "outputs": [
        {
          "output_type": "stream",
          "name": "stdout",
          "text": [
            "Features Selected:  Index(['SEC_CODE', 'SYMBOL1', 'MARKET', 'BEST_ASK_PRICE', 'BEST_BID_PRICE'], dtype='object')\n",
            "MAE:   0.324\n",
            "MSE:   2.485\n",
            "RMSE:  1.571\n",
            "R2:    0.882\n"
          ]
        }
      ]
    },
    {
      "cell_type": "code",
      "source": [
        "LSFS2 = SequentialFeatureSelector(DTR, n_features_to_select=5, direction='forward') \n",
        "\n",
        "LSFS2.fit(x2, y2)\n",
        "x_SFS2L = LSFS2.transform(x2)\n",
        "\n",
        "SMAEL2 = []\n",
        "SMSEL2 = []\n",
        "SRMSEL2 = []\n",
        "SR2L2 = []\n",
        "\n",
        "for i in range(30):\n",
        "    x_train, x_test, y_train, y_test = train_test_split(x_SFS2L, y2, test_size=0.2, random_state=i)\n",
        "    x_train = SC.fit_transform(x_train)\n",
        "    x_test = SC.transform(x_test)\n",
        "    \n",
        "    DTR.fit(x_train, y_train)\n",
        "    y_pred = DTR.predict(x_test)\n",
        "\n",
        "    MAE = mean_absolute_error(y_test , y_pred)\n",
        "    SMAEL2.append(MAE)\n",
        "\n",
        "    MSE = mean_squared_error(y_test , y_pred)\n",
        "    SMSEL2.append(MSE)\n",
        "\n",
        "    RMSE = mean_squared_error(y_test , y_pred , squared=False)\n",
        "    SRMSEL2.append(RMSE)\n",
        "\n",
        "    R2 = r2_score(y_test , y_pred)\n",
        "    SR2L2.append(R2)\n",
        "\n",
        "SM2L = sum(SMAEL2)/len(SMAEL2)\n",
        "SMS2L = sum(SMSEL2)/len(SMSEL2)\n",
        "SRM2L = sum(SRMSEL2)/len(SRMSEL2)\n",
        "SRR2L = sum(SR2L2)/len(SR2L2)\n",
        "\n",
        "print(\"Features Selected: \" , x.columns[LSFS2.get_support()])\n",
        "print(\"MAE:  \" , round(SM2L , 3))\n",
        "print(\"MSE:  \" , round(SMS2L , 3))\n",
        "print(\"RMSE: \" , round(SRM2L , 3))\n",
        "print(\"R2:   \" , round(SRR2L , 3))"
      ],
      "metadata": {
        "colab": {
          "base_uri": "https://localhost:8080/"
        },
        "id": "Wlu60LgOf8rM",
        "outputId": "5f1094ea-47c5-4f75-e270-bc9180b877df"
      },
      "execution_count": 123,
      "outputs": [
        {
          "output_type": "stream",
          "name": "stdout",
          "text": [
            "Features Selected:  Index(['SEC_CODE', 'SYMBOL1', 'MARKET', 'BEST_ASK_PRICE', 'BEST_BID_PRICE'], dtype='object')\n",
            "MAE:   0.213\n",
            "MSE:   1.182\n",
            "RMSE:  1.081\n",
            "R2:    0.944\n"
          ]
        }
      ]
    },
    {
      "cell_type": "code",
      "source": [
        "LSFS3 = SequentialFeatureSelector(LR, n_features_to_select=5, direction='forward') \n",
        "\n",
        "LSFS3.fit(x2, y2)\n",
        "x_SFS3L = LSFS3.transform(x2)\n",
        "\n",
        "SMAEL3  = []\n",
        "SMSEL3  = []\n",
        "SRMSEL3 = []\n",
        "SR2L3   = []\n",
        "for i in range(30):\n",
        "    x_train, x_test, y_train, y_test = train_test_split(x_SFS3L, y2, test_size=0.2, random_state=i)\n",
        "    x_train = SC.fit_transform(x_train)\n",
        "    x_test = SC.transform(x_test)\n",
        "    \n",
        "    LR.fit(x_train, y_train)\n",
        "    y_pred = LR.predict(x_test)\n",
        "\n",
        "    MAE = mean_absolute_error(y_test , y_pred)\n",
        "    SMAEL3.append(MAE)\n",
        "\n",
        "    MSE = mean_squared_error(y_test , y_pred)\n",
        "    SMSEL3.append(MSE)\n",
        "\n",
        "    RMSE = mean_squared_error(y_test , y_pred , squared=False)\n",
        "    SRMSEL3.append(RMSE)\n",
        "\n",
        "    R2 = r2_score(y_test , y_pred)\n",
        "    SR2L3.append(R2)\n",
        "\n",
        "SM3L = sum(SMAEL3)/len(SMAEL3)\n",
        "SMS3L = sum(SMSEL3)/len(SMSEL3)\n",
        "SRM3L = sum(SRMSEL3)/len(SRMSEL3)\n",
        "SRR3L = sum(SR2L3)/len(SR2L3)\n",
        "\n",
        "print(\"Features Selected: \" , x.columns[LSFS3.get_support()])\n",
        "print(\"MAE:  \" , round(SM3L , 3))\n",
        "print(\"MSE:  \" , round(SMS3L , 3))\n",
        "print(\"RMSE: \" , round(SRM3L , 3))\n",
        "print(\"R2:   \" , round(SRR3L , 3))"
      ],
      "metadata": {
        "colab": {
          "base_uri": "https://localhost:8080/"
        },
        "id": "l2jemPYwgAEU",
        "outputId": "bfe4e6ef-6110-4a97-b5cb-d34706376d1f"
      },
      "execution_count": 124,
      "outputs": [
        {
          "output_type": "stream",
          "name": "stdout",
          "text": [
            "Features Selected:  Index(['SEC_CODE', 'SYMBOL1', 'MARKET', 'VOLUME', 'TRADE_QTY'], dtype='object')\n",
            "MAE:   1.603\n",
            "MSE:   17.284\n",
            "RMSE:  4.154\n",
            "R2:    0.174\n"
          ]
        }
      ]
    },
    {
      "cell_type": "markdown",
      "source": [
        "### 8.4. SelectK Best (Filter_Low)"
      ],
      "metadata": {
        "id": "-oQs3AiY1CUu"
      }
    },
    {
      "cell_type": "code",
      "source": [
        "from sklearn.feature_selection import SelectKBest, f_regression\n",
        "SKBL = SelectKBest(f_regression, k=6)\n",
        "SKBL.fit(x2, y2)\n",
        "x2_SKB = SKBL.transform(x2)\n",
        "\n",
        "MAEL1  = []\n",
        "MSEL1  = []\n",
        "RMSEL1 = []\n",
        "R2L1   = []\n",
        "\n",
        "for i in range(30):\n",
        "    x_train, x_test, y_train, y_test = train_test_split(x2_SKB, y2, test_size=0.2, random_state=i)\n",
        "    x_train = SC.fit_transform(x_train)\n",
        "    x_test = SC.transform(x_test)\n",
        "    \n",
        "    KNNR.fit(x_train, y_train)\n",
        "    y_pred = KNNR.predict(x_test)\n",
        "\n",
        "    MAE = mean_absolute_error(y_test , y_pred)\n",
        "    MAEL1.append(MAE)\n",
        "\n",
        "    MSE = mean_squared_error(y_test , y_pred)\n",
        "    MSEL1.append(MSE)\n",
        "\n",
        "    RMSE = mean_squared_error(y_test , y_pred , squared=False)\n",
        "    RMSEL1.append(RMSE)\n",
        "\n",
        "    R2 = r2_score(y_test , y_pred)\n",
        "    R2L1.append(R2)\n",
        "\n",
        "M1L = sum(MAEL1)/len(MAEL1)\n",
        "MS1L = sum(MSEL1)/len(MSEL1)\n",
        "RM1L = sum(RMSEL1)/len(RMSEL1)\n",
        "RR1L = sum(R2L1)/len(R2L1)\n",
        "\n",
        "print(\"Features Selected: \" , x.columns[SKBL.get_support()])\n",
        "print(\"MAE:  \" , round(M1L , 3))\n",
        "print(\"MSE:  \" , round(MS1L , 3))\n",
        "print(\"RMSE: \" , round(RM1L , 3))\n",
        "print(\"R2:   \" , round(RR1L , 3))"
      ],
      "metadata": {
        "colab": {
          "base_uri": "https://localhost:8080/"
        },
        "id": "ZC3f0WXN1Zpv",
        "outputId": "ef6a098e-4019-48b0-f665-d766cecc1c51"
      },
      "execution_count": 125,
      "outputs": [
        {
          "output_type": "stream",
          "name": "stdout",
          "text": [
            "Features Selected:  Index(['SEC_CODE', 'MARKET', 'VOLUME', 'NO_OF_TRADES', 'BEST_ASK_PRICE',\n",
            "       'BEST_BID_PRICE'],\n",
            "      dtype='object')\n",
            "MAE:   0.89\n",
            "MSE:   9.439\n",
            "RMSE:  3.07\n",
            "R2:    0.548\n"
          ]
        }
      ]
    },
    {
      "cell_type": "code",
      "source": [
        "MAEL2  = []\n",
        "MSEL2  = []\n",
        "RMSEL2 = []\n",
        "R2L2   = []\n",
        "\n",
        "for i in range(30):\n",
        "    x_train, x_test, y_train, y_test = train_test_split(x2_SKB, y2, test_size=0.2, random_state=i)\n",
        "    x_train = SC.fit_transform(x_train)\n",
        "    x_test = SC.transform(x_test)\n",
        "    \n",
        "    DTR.fit(x_train, y_train)\n",
        "    y_pred = DTR.predict(x_test)\n",
        "\n",
        "    MAE = mean_absolute_error(y_test , y_pred)\n",
        "    MAEL2.append(MAE)\n",
        "\n",
        "    MSE = mean_squared_error(y_test , y_pred)\n",
        "    MSEL2.append(MSE)\n",
        "\n",
        "    RMSE = mean_squared_error(y_test , y_pred , squared=False)\n",
        "    RMSEL2.append(RMSE)\n",
        "\n",
        "    R2 = r2_score(y_test , y_pred)\n",
        "    R2L2.append(R2)\n",
        "\n",
        "M2L = sum(MAEL2)/len(MAEL2)\n",
        "MS2L = sum(MSEL2)/len(MSEL2)\n",
        "RM2L = sum(RMSEL2)/len(RMSEL2)\n",
        "RR2L = sum(R2L2)/len(R2L2)\n",
        "\n",
        "print(\"Features Selected: \" , x.columns[SKBL.get_support()])\n",
        "print(\"MAE:  \" , round(M2L , 3))\n",
        "print(\"MSE:  \" , round(MS2L , 3))\n",
        "print(\"RMSE: \" , round(RM2L , 3))\n",
        "print(\"R2:   \" , round(RR2L , 3))"
      ],
      "metadata": {
        "colab": {
          "base_uri": "https://localhost:8080/"
        },
        "id": "2c0VQ1Vdgd_v",
        "outputId": "46d7f098-e995-41c3-e4e1-5f36dcaf2b90"
      },
      "execution_count": 126,
      "outputs": [
        {
          "output_type": "stream",
          "name": "stdout",
          "text": [
            "Features Selected:  Index(['SEC_CODE', 'MARKET', 'VOLUME', 'NO_OF_TRADES', 'BEST_ASK_PRICE',\n",
            "       'BEST_BID_PRICE'],\n",
            "      dtype='object')\n",
            "MAE:   0.236\n",
            "MSE:   1.545\n",
            "RMSE:  1.239\n",
            "R2:    0.926\n"
          ]
        }
      ]
    },
    {
      "cell_type": "code",
      "source": [
        "MAEL3  = []\n",
        "MSEL3  = []\n",
        "RMSEL3 = []\n",
        "R2L3   = []\n",
        "for i in range(30):\n",
        "    x_train, x_test, y_train, y_test = train_test_split(x2_SKB, y2, test_size=0.2, random_state=i)\n",
        "    x_train = SC.fit_transform(x_train)\n",
        "    x_test = SC.transform(x_test)\n",
        "    \n",
        "    LR.fit(x_train, y_train)\n",
        "    y_pred = LR.predict(x_test)\n",
        "\n",
        "    MAE = mean_absolute_error(y_test , y_pred)\n",
        "    MAEL3.append(MAE)\n",
        "\n",
        "    MSE = mean_squared_error(y_test , y_pred)\n",
        "    MSEL3.append(MSE)\n",
        "\n",
        "    RMSE = mean_squared_error(y_test , y_pred , squared=False)\n",
        "    RMSEL3.append(RMSE)\n",
        "\n",
        "    R2 = r2_score(y_test , y_pred)\n",
        "    R2L3.append(R2)\n",
        "\n",
        "M3L = sum(MAEL3)/len(MAEL3)\n",
        "MS3L = sum(MSEL3)/len(MSEL3)\n",
        "RM3L = sum(RMSEL3)/len(RMSEL3)\n",
        "RR3L = sum(R2L3)/len(R2L3)\n",
        "\n",
        "print(\"Features Selected: \" , x.columns[SKBL.get_support()])\n",
        "print(\"MAE:  \" , round(M3L , 3))\n",
        "print(\"MSE:  \" , round(MS3L , 3))\n",
        "print(\"RMSE: \" , round(RM3L , 3))\n",
        "print(\"R2:   \" , round(RR3L , 3))"
      ],
      "metadata": {
        "colab": {
          "base_uri": "https://localhost:8080/"
        },
        "id": "D_xr2EINgijP",
        "outputId": "20706464-3013-4aa7-c6d4-73b55f617418"
      },
      "execution_count": 127,
      "outputs": [
        {
          "output_type": "stream",
          "name": "stdout",
          "text": [
            "Features Selected:  Index(['SEC_CODE', 'MARKET', 'VOLUME', 'NO_OF_TRADES', 'BEST_ASK_PRICE',\n",
            "       'BEST_BID_PRICE'],\n",
            "      dtype='object')\n",
            "MAE:   1.654\n",
            "MSE:   18.477\n",
            "RMSE:  4.296\n",
            "R2:    0.117\n"
          ]
        }
      ]
    },
    {
      "cell_type": "markdown",
      "source": [
        "# 9. Analyzing Results"
      ],
      "metadata": {
        "id": "WiRHDUy2iM2x"
      }
    },
    {
      "cell_type": "code",
      "source": [
        "xv = ['KNNR','DTR','LR']"
      ],
      "metadata": {
        "id": "jd0lTtAtlMec"
      },
      "execution_count": 128,
      "outputs": []
    },
    {
      "cell_type": "markdown",
      "source": [
        "### 9.1. Bar Plot (High)"
      ],
      "metadata": {
        "id": "DPXb_M8glj5I"
      }
    },
    {
      "cell_type": "code",
      "source": [
        "M = [SM1H , SM2H , SM3H]\n",
        "M2 = [M1H , M2H , M3H]\n",
        "\n",
        "X_axis = np.arange(len(xv))  \n",
        "\n",
        "plt.bar(X_axis + 0.15 , M  , color = 'Red' ,    width = 0.10 , edgecolor = 'black' , label = 'Sequential Feature Selection')\n",
        "plt.bar(X_axis + 0.25 , M2 , color = 'Purple' , width = 0.10 , edgecolor = 'black' , label = 'SelectK Best')\n",
        "\n",
        "plt.xticks(X_axis + 0.20, xv)\n",
        "plt.legend(bbox_to_anchor=(1 , 1))\n",
        "\n",
        "plt.ylabel(\"Result\")\n",
        "plt.title(\"Mean Absolute Error Measure (High)\")\n",
        "plt.show()"
      ],
      "metadata": {
        "colab": {
          "base_uri": "https://localhost:8080/",
          "height": 0
        },
        "id": "yH1MbZ_ciQqL",
        "outputId": "5989d8b4-2e80-4b91-bd10-f510696634c4"
      },
      "execution_count": 129,
      "outputs": [
        {
          "output_type": "display_data",
          "data": {
            "text/plain": [
              "<Figure size 640x480 with 1 Axes>"
            ],
            "image/png": "[encoded data removed]"
          },
          "metadata": {}
        }
      ]
    },
    {
      "cell_type": "code",
      "source": [
        "RR = [SRR1H , SRR2H , SRR3H]\n",
        "RR2 = [RR1H , RR2H , RR3H]\n",
        "X_axis = np.arange(len(xv))  \n",
        "\n",
        "plt.bar(X_axis + 0.15 , RR  , color = 'Green' , width = 0.10 , edgecolor = 'black' , label = 'Sequential Feature Selection')\n",
        "plt.bar(X_axis + 0.25 , RR2 , color = 'Blue'  , width = 0.10 , edgecolor = 'black' , label = 'SelectK Best')\n",
        "\n",
        "plt.xticks(X_axis + 0.20, xv)\n",
        "plt.legend(bbox_to_anchor=(1 , 1))\n",
        "\n",
        "plt.ylabel(\"Result\")\n",
        "plt.title(\"R2 Measure (High)\")\n",
        "plt.show()"
      ],
      "metadata": {
        "colab": {
          "base_uri": "https://localhost:8080/",
          "height": 0
        },
        "id": "IxcWtSNqk1KV",
        "outputId": "30afc71f-f82e-4698-9f3e-15ce7a783ba3"
      },
      "execution_count": 130,
      "outputs": [
        {
          "output_type": "display_data",
          "data": {
            "text/plain": [
              "<Figure size 640x480 with 1 Axes>"
            ],
            "image/png": "[encoded data removed]"
          },
          "metadata": {}
        }
      ]
    },
    {
      "cell_type": "markdown",
      "source": [
        "### 9.2 Bar Plot (Low)"
      ],
      "metadata": {
        "id": "rhKwiwsJ3wI_"
      }
    },
    {
      "cell_type": "code",
      "source": [
        "ML = [SM1L , SM2L , SM3L]\n",
        "ML2 = [M1L , M2L , M3L]\n",
        "X_axis = np.arange(len(xv)) \n",
        "\n",
        "plt.bar(X_axis + 0.15 , ML  , color = 'Red'    , width = 0.10 , edgecolor = 'black' , label = 'Sequential Feature Selection')\n",
        "plt.bar(X_axis + 0.25 , ML2 , color = 'Purple' , width = 0.10 , edgecolor = 'black' , label = 'SelectK Best')\n",
        "\n",
        "plt.xticks(X_axis + 0.20, xv)\n",
        "plt.legend(bbox_to_anchor=(1 , 1))\n",
        "\n",
        "plt.ylabel(\"Result\")\n",
        "plt.title(\"Mean Absolute Error Measure (Low)\")\n",
        "plt.show()"
      ],
      "metadata": {
        "colab": {
          "base_uri": "https://localhost:8080/",
          "height": 0
        },
        "id": "Q1h19VJM30Lw",
        "outputId": "bb808ab4-3874-4cb5-ab11-dd2e9f79cb1d"
      },
      "execution_count": 131,
      "outputs": [
        {
          "output_type": "display_data",
          "data": {
            "text/plain": [
              "<Figure size 640x480 with 1 Axes>"
            ],
            "image/png": "[encoded data removed]"
          },
          "metadata": {}
        }
      ]
    },
    {
      "cell_type": "code",
      "source": [
        "RRL = [SRR1L , SRR2L , SRR3L]\n",
        "RRL2 = [RR1L , RR2L , RR3L]\n",
        "X_axis = np.arange(len(xv))  \n",
        "\n",
        "plt.bar(X_axis + 0.15 , RRL  , color = 'Green' , width = 0.10 , edgecolor = 'black' , label = 'Sequential Feature Selection')\n",
        "plt.bar(X_axis + 0.25 , RRL2 , color = 'Blue'  , width = 0.10 , edgecolor = 'black' , label = 'SelectK Best')\n",
        "\n",
        "plt.xticks(X_axis + 0.20, xv)\n",
        "plt.legend(bbox_to_anchor=(1 , 1))\n",
        "\n",
        "plt.ylabel(\"Result\")\n",
        "plt.title(\"R2 Measure (Low)\")\n",
        "plt.show()"
      ],
      "metadata": {
        "colab": {
          "base_uri": "https://localhost:8080/",
          "height": 0
        },
        "id": "DQrSLmOf4Avj",
        "outputId": "f84e2edb-d883-4381-b29d-d70d8ed707b9"
      },
      "execution_count": 132,
      "outputs": [
        {
          "output_type": "display_data",
          "data": {
            "text/plain": [
              "<Figure size 640x480 with 1 Axes>"
            ],
            "image/png": "[encoded data removed]"
          },
          "metadata": {}
        }
      ]
    },
    {
      "cell_type": "markdown",
      "source": [
        "### 9.3. Box Plot (High)"
      ],
      "metadata": {
        "id": "RZfyZtw75BLA"
      }
    },
    {
      "cell_type": "code",
      "source": [
        "arrH = np.array(SR2H2)\n",
        "\n",
        "dict = {'Decision Tree (Sequential Feature Selection) High: R2' : arrH}\n",
        "fig, ax = plt.subplots()\n",
        "\n",
        "fig.suptitle('')\n",
        "ax.boxplot(dict.values())\n",
        "ax.set_xticklabels(dict.keys())\n",
        "plt.title(\"Decision Tree (Sequential Feature Selection) High: R2\")\n",
        "plt.show()"
      ],
      "metadata": {
        "colab": {
          "base_uri": "https://localhost:8080/",
          "height": 0
        },
        "id": "VlbzRepu9KFL",
        "outputId": "9bf3440f-6c34-4767-c083-55f997cc1289"
      },
      "execution_count": 133,
      "outputs": [
        {
          "output_type": "display_data",
          "data": {
            "text/plain": [
              "<Figure size 640x480 with 1 Axes>"
            ],
            "image/png": "[encoded data removed]"
          },
          "metadata": {}
        }
      ]
    },
    {
      "cell_type": "code",
      "source": [
        "arrH2 = np.array(SMAEH2)\n",
        "\n",
        "dict = {'Decision Tree (Sequential Feature Selection) High: Mean Absolute Error' : arrH2}\n",
        "fig, ax = plt.subplots()\n",
        "\n",
        "fig.suptitle('')\n",
        "ax.boxplot(dict.values())\n",
        "ax.set_xticklabels(dict.keys())\n",
        "plt.title(\"Decision Tree (Sequential Feature Selection) High: Mean Absolute Error\")\n",
        "plt.show()"
      ],
      "metadata": {
        "colab": {
          "base_uri": "https://localhost:8080/",
          "height": 0
        },
        "id": "CNR2pOfO-cX6",
        "outputId": "f8c16090-8231-4607-cb5c-66198a94b51b"
      },
      "execution_count": 134,
      "outputs": [
        {
          "output_type": "display_data",
          "data": {
            "text/plain": [
              "<Figure size 640x480 with 1 Axes>"
            ],
            "image/png": "[encoded data removed]"
          },
          "metadata": {}
        }
      ]
    },
    {
      "cell_type": "markdown",
      "source": [
        "### 9.4. Box Plot (Low)"
      ],
      "metadata": {
        "id": "fUq6p1IENCwn"
      }
    },
    {
      "cell_type": "code",
      "source": [
        "arrL = np.array(SR2L2)\n",
        "\n",
        "dict = {'DTR (Sequential Feature Selection) Low: R2' : arrL}\n",
        "fig, ax = plt.subplots()\n",
        "\n",
        "fig.suptitle('')\n",
        "ax.boxplot(dict.values())\n",
        "ax.set_xticklabels(dict.keys())\n",
        "plt.title(\"DTR (Sequential Feature Selection) Low: R2\")\n",
        "plt.show()"
      ],
      "metadata": {
        "colab": {
          "base_uri": "https://localhost:8080/",
          "height": 452
        },
        "id": "a77ygbLr-usB",
        "outputId": "84ad11ef-e6b5-4a69-c8e3-602307f733b0"
      },
      "execution_count": 135,
      "outputs": [
        {
          "output_type": "display_data",
          "data": {
            "text/plain": [
              "<Figure size 640x480 with 1 Axes>"
            ],
            "image/png": "[encoded data removed]"
          },
          "metadata": {}
        }
      ]
    },
    {
      "cell_type": "code",
      "source": [
        "arrL2 = np.array(SMAEL2)\n",
        "\n",
        "dict = {'DTR (Sequential Feature Selection) Low: Mean Absulote Error' : arrL2}\n",
        "fig, ax = plt.subplots()\n",
        "\n",
        "fig.suptitle('')\n",
        "ax.boxplot(dict.values())\n",
        "ax.set_xticklabels(dict.keys())\n",
        "plt.title(\"DTR (Sequential Feature Selection) Low: Mean Absulote Error\")\n",
        "plt.show()"
      ],
      "metadata": {
        "colab": {
          "base_uri": "https://localhost:8080/",
          "height": 452
        },
        "id": "TmjE8bAj_BtI",
        "outputId": "3576ad85-9c97-42f5-e695-05b42a58aee0"
      },
      "execution_count": 136,
      "outputs": [
        {
          "output_type": "display_data",
          "data": {
            "text/plain": [
              "<Figure size 640x480 with 1 Axes>"
            ],
            "image/png": "[encoded data removed]"
          },
          "metadata": {}
        }
      ]
    }
  ],
  "metadata": {
    "colab": {
      "collapsed_sections": [
        "qphlo1c2vdhw",
        "DZYcY9xJvpoa",
        "O14rlwQIzFlx",
        "cBuNRqj6WWjI",
        "L2wm7_FIAonY",
        "5g-uqsZU2cLr",
        "-bB3MUyjG4Mq",
        "b31r3n_iMbti",
        "iUB83TuMQ9Qy",
        "9-Dam8g1My-M",
        "dLPENC88Dzu2",
        "PrhSh_DL5cBP",
        "Eg8pDEdAAxlf",
        "rWavyQBUNFoH",
        "ZmZ365xquMfG",
        "3QDJD3rEAbkI",
        "D7p2JJDca8hj",
        "8xkiYEUpx5wL",
        "-oQs3AiY1CUu",
        "WiRHDUy2iM2x",
        "DPXb_M8glj5I",
        "rhKwiwsJ3wI_",
        "RZfyZtw75BLA",
        "fUq6p1IENCwn"
      ],
      "provenance": []
    },
    "kernelspec": {
      "display_name": "Python 3",
      "name": "python3"
    },
    "language_info": {
      "name": "python"
    }
  },
  "nbformat": 4,
  "nbformat_minor": 0
}